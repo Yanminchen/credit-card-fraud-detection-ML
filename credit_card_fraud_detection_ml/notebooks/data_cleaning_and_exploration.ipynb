{
 "cells": [
  {
   "cell_type": "code",
   "execution_count": 1,
   "id": "cd1700e0",
   "metadata": {},
   "outputs": [],
   "source": [
    "import pandas as pd\n",
    "import scipy.stats\n",
    "import numpy as np\n",
    "import datetime as dt\n",
    "import calendar\n",
    "import timeit\n",
    "import seaborn as sns\n",
    "import matplotlib.pyplot as plt\n",
    "%matplotlib inline\n",
    "start_time = dt.datetime.now()\n",
    "import math\n",
    "from math import exp"
   ]
  },
  {
   "cell_type": "code",
   "execution_count": 2,
   "id": "1ee02ffa",
   "metadata": {},
   "outputs": [
    {
     "data": {
      "text/html": [
       "<div>\n",
       "<style scoped>\n",
       "    .dataframe tbody tr th:only-of-type {\n",
       "        vertical-align: middle;\n",
       "    }\n",
       "\n",
       "    .dataframe tbody tr th {\n",
       "        vertical-align: top;\n",
       "    }\n",
       "\n",
       "    .dataframe thead th {\n",
       "        text-align: right;\n",
       "    }\n",
       "</style>\n",
       "<table border=\"1\" class=\"dataframe\">\n",
       "  <thead>\n",
       "    <tr style=\"text-align: right;\">\n",
       "      <th></th>\n",
       "      <th>Recnum</th>\n",
       "      <th>Cardnum</th>\n",
       "      <th>Date</th>\n",
       "      <th>Merchnum</th>\n",
       "      <th>Merch description</th>\n",
       "      <th>Merch state</th>\n",
       "      <th>Merch zip</th>\n",
       "      <th>Transtype</th>\n",
       "      <th>Amount</th>\n",
       "      <th>Fraud</th>\n",
       "      <th>Unnamed: 10</th>\n",
       "      <th>Unnamed: 11</th>\n",
       "      <th>Unnamed: 12</th>\n",
       "      <th>Unnamed: 13</th>\n",
       "      <th>Unnamed: 14</th>\n",
       "      <th>Unnamed: 15</th>\n",
       "      <th>Unnamed: 16</th>\n",
       "      <th>Unnamed: 17</th>\n",
       "    </tr>\n",
       "  </thead>\n",
       "  <tbody>\n",
       "    <tr>\n",
       "      <th>0</th>\n",
       "      <td>1</td>\n",
       "      <td>5142190439</td>\n",
       "      <td>1/1/10</td>\n",
       "      <td>5509006296254</td>\n",
       "      <td>FEDEX SHP 12/23/09 AB#</td>\n",
       "      <td>TN</td>\n",
       "      <td>38118.0</td>\n",
       "      <td>P</td>\n",
       "      <td>3.62</td>\n",
       "      <td>0</td>\n",
       "      <td>NaN</td>\n",
       "      <td>NaN</td>\n",
       "      <td>NaN</td>\n",
       "      <td>NaN</td>\n",
       "      <td>NaN</td>\n",
       "      <td>NaN</td>\n",
       "      <td>NaN</td>\n",
       "      <td>NaN</td>\n",
       "    </tr>\n",
       "    <tr>\n",
       "      <th>1</th>\n",
       "      <td>2</td>\n",
       "      <td>5142183973</td>\n",
       "      <td>1/1/10</td>\n",
       "      <td>61003026333</td>\n",
       "      <td>SERVICE MERCHANDISE #81</td>\n",
       "      <td>MA</td>\n",
       "      <td>1803.0</td>\n",
       "      <td>P</td>\n",
       "      <td>31.42</td>\n",
       "      <td>0</td>\n",
       "      <td>NaN</td>\n",
       "      <td>NaN</td>\n",
       "      <td>NaN</td>\n",
       "      <td>NaN</td>\n",
       "      <td>NaN</td>\n",
       "      <td>NaN</td>\n",
       "      <td>NaN</td>\n",
       "      <td>NaN</td>\n",
       "    </tr>\n",
       "    <tr>\n",
       "      <th>2</th>\n",
       "      <td>3</td>\n",
       "      <td>5142131721</td>\n",
       "      <td>1/1/10</td>\n",
       "      <td>4503082993600</td>\n",
       "      <td>OFFICE DEPOT #191</td>\n",
       "      <td>MD</td>\n",
       "      <td>20706.0</td>\n",
       "      <td>P</td>\n",
       "      <td>178.49</td>\n",
       "      <td>0</td>\n",
       "      <td>NaN</td>\n",
       "      <td>NaN</td>\n",
       "      <td>NaN</td>\n",
       "      <td>NaN</td>\n",
       "      <td>NaN</td>\n",
       "      <td>NaN</td>\n",
       "      <td>NaN</td>\n",
       "      <td>NaN</td>\n",
       "    </tr>\n",
       "    <tr>\n",
       "      <th>3</th>\n",
       "      <td>4</td>\n",
       "      <td>5142148452</td>\n",
       "      <td>1/1/10</td>\n",
       "      <td>5509006296254</td>\n",
       "      <td>FEDEX SHP 12/28/09 AB#</td>\n",
       "      <td>TN</td>\n",
       "      <td>38118.0</td>\n",
       "      <td>P</td>\n",
       "      <td>3.62</td>\n",
       "      <td>0</td>\n",
       "      <td>NaN</td>\n",
       "      <td>NaN</td>\n",
       "      <td>NaN</td>\n",
       "      <td>NaN</td>\n",
       "      <td>NaN</td>\n",
       "      <td>NaN</td>\n",
       "      <td>NaN</td>\n",
       "      <td>NaN</td>\n",
       "    </tr>\n",
       "    <tr>\n",
       "      <th>4</th>\n",
       "      <td>5</td>\n",
       "      <td>5142190439</td>\n",
       "      <td>1/1/10</td>\n",
       "      <td>5509006296254</td>\n",
       "      <td>FEDEX SHP 12/23/09 AB#</td>\n",
       "      <td>TN</td>\n",
       "      <td>38118.0</td>\n",
       "      <td>P</td>\n",
       "      <td>3.62</td>\n",
       "      <td>0</td>\n",
       "      <td>NaN</td>\n",
       "      <td>NaN</td>\n",
       "      <td>NaN</td>\n",
       "      <td>NaN</td>\n",
       "      <td>NaN</td>\n",
       "      <td>NaN</td>\n",
       "      <td>NaN</td>\n",
       "      <td>NaN</td>\n",
       "    </tr>\n",
       "    <tr>\n",
       "      <th>...</th>\n",
       "      <td>...</td>\n",
       "      <td>...</td>\n",
       "      <td>...</td>\n",
       "      <td>...</td>\n",
       "      <td>...</td>\n",
       "      <td>...</td>\n",
       "      <td>...</td>\n",
       "      <td>...</td>\n",
       "      <td>...</td>\n",
       "      <td>...</td>\n",
       "      <td>...</td>\n",
       "      <td>...</td>\n",
       "      <td>...</td>\n",
       "      <td>...</td>\n",
       "      <td>...</td>\n",
       "      <td>...</td>\n",
       "      <td>...</td>\n",
       "      <td>...</td>\n",
       "    </tr>\n",
       "    <tr>\n",
       "      <th>96748</th>\n",
       "      <td>96749</td>\n",
       "      <td>5142276053</td>\n",
       "      <td>12/31/10</td>\n",
       "      <td>3500000006160</td>\n",
       "      <td>BEST BUY      00001610</td>\n",
       "      <td>KY</td>\n",
       "      <td>41042.0</td>\n",
       "      <td>P</td>\n",
       "      <td>84.79</td>\n",
       "      <td>0</td>\n",
       "      <td>NaN</td>\n",
       "      <td>NaN</td>\n",
       "      <td>NaN</td>\n",
       "      <td>NaN</td>\n",
       "      <td>NaN</td>\n",
       "      <td>NaN</td>\n",
       "      <td>NaN</td>\n",
       "      <td>NaN</td>\n",
       "    </tr>\n",
       "    <tr>\n",
       "      <th>96749</th>\n",
       "      <td>96750</td>\n",
       "      <td>5142225701</td>\n",
       "      <td>12/31/10</td>\n",
       "      <td>8090710030950</td>\n",
       "      <td>MARKUS OFFICE SUPPLIES</td>\n",
       "      <td>OH</td>\n",
       "      <td>45248.0</td>\n",
       "      <td>P</td>\n",
       "      <td>118.75</td>\n",
       "      <td>0</td>\n",
       "      <td>NaN</td>\n",
       "      <td>NaN</td>\n",
       "      <td>NaN</td>\n",
       "      <td>NaN</td>\n",
       "      <td>NaN</td>\n",
       "      <td>NaN</td>\n",
       "      <td>NaN</td>\n",
       "      <td>NaN</td>\n",
       "    </tr>\n",
       "    <tr>\n",
       "      <th>96750</th>\n",
       "      <td>96751</td>\n",
       "      <td>5142226486</td>\n",
       "      <td>12/31/10</td>\n",
       "      <td>4503057341100</td>\n",
       "      <td>TECH PAC, INC</td>\n",
       "      <td>OH</td>\n",
       "      <td>45150.0</td>\n",
       "      <td>P</td>\n",
       "      <td>363.56</td>\n",
       "      <td>0</td>\n",
       "      <td>NaN</td>\n",
       "      <td>NaN</td>\n",
       "      <td>NaN</td>\n",
       "      <td>NaN</td>\n",
       "      <td>NaN</td>\n",
       "      <td>NaN</td>\n",
       "      <td>NaN</td>\n",
       "      <td>NaN</td>\n",
       "    </tr>\n",
       "    <tr>\n",
       "      <th>96751</th>\n",
       "      <td>96752</td>\n",
       "      <td>5142244619</td>\n",
       "      <td>12/31/10</td>\n",
       "      <td>8834000695412</td>\n",
       "      <td>BUY.COM</td>\n",
       "      <td>CA</td>\n",
       "      <td>92656.0</td>\n",
       "      <td>P</td>\n",
       "      <td>2202.03</td>\n",
       "      <td>0</td>\n",
       "      <td>NaN</td>\n",
       "      <td>NaN</td>\n",
       "      <td>NaN</td>\n",
       "      <td>NaN</td>\n",
       "      <td>NaN</td>\n",
       "      <td>NaN</td>\n",
       "      <td>NaN</td>\n",
       "      <td>NaN</td>\n",
       "    </tr>\n",
       "    <tr>\n",
       "      <th>96752</th>\n",
       "      <td>96753</td>\n",
       "      <td>5142243247</td>\n",
       "      <td>12/31/10</td>\n",
       "      <td>9108347680006</td>\n",
       "      <td>STAPLES NATIONAL #471</td>\n",
       "      <td>NJ</td>\n",
       "      <td>7606.0</td>\n",
       "      <td>P</td>\n",
       "      <td>554.64</td>\n",
       "      <td>0</td>\n",
       "      <td>NaN</td>\n",
       "      <td>NaN</td>\n",
       "      <td>NaN</td>\n",
       "      <td>NaN</td>\n",
       "      <td>NaN</td>\n",
       "      <td>NaN</td>\n",
       "      <td>NaN</td>\n",
       "      <td>NaN</td>\n",
       "    </tr>\n",
       "  </tbody>\n",
       "</table>\n",
       "<p>96753 rows × 18 columns</p>\n",
       "</div>"
      ],
      "text/plain": [
       "       Recnum     Cardnum      Date       Merchnum        Merch description  \\\n",
       "0           1  5142190439    1/1/10  5509006296254   FEDEX SHP 12/23/09 AB#   \n",
       "1           2  5142183973    1/1/10    61003026333  SERVICE MERCHANDISE #81   \n",
       "2           3  5142131721    1/1/10  4503082993600        OFFICE DEPOT #191   \n",
       "3           4  5142148452    1/1/10  5509006296254   FEDEX SHP 12/28/09 AB#   \n",
       "4           5  5142190439    1/1/10  5509006296254   FEDEX SHP 12/23/09 AB#   \n",
       "...       ...         ...       ...            ...                      ...   \n",
       "96748   96749  5142276053  12/31/10  3500000006160   BEST BUY      00001610   \n",
       "96749   96750  5142225701  12/31/10  8090710030950   MARKUS OFFICE SUPPLIES   \n",
       "96750   96751  5142226486  12/31/10  4503057341100            TECH PAC, INC   \n",
       "96751   96752  5142244619  12/31/10  8834000695412                  BUY.COM   \n",
       "96752   96753  5142243247  12/31/10  9108347680006    STAPLES NATIONAL #471   \n",
       "\n",
       "      Merch state  Merch zip Transtype   Amount  Fraud  Unnamed: 10  \\\n",
       "0              TN    38118.0         P     3.62      0          NaN   \n",
       "1              MA     1803.0         P    31.42      0          NaN   \n",
       "2              MD    20706.0         P   178.49      0          NaN   \n",
       "3              TN    38118.0         P     3.62      0          NaN   \n",
       "4              TN    38118.0         P     3.62      0          NaN   \n",
       "...           ...        ...       ...      ...    ...          ...   \n",
       "96748          KY    41042.0         P    84.79      0          NaN   \n",
       "96749          OH    45248.0         P   118.75      0          NaN   \n",
       "96750          OH    45150.0         P   363.56      0          NaN   \n",
       "96751          CA    92656.0         P  2202.03      0          NaN   \n",
       "96752          NJ     7606.0         P   554.64      0          NaN   \n",
       "\n",
       "       Unnamed: 11  Unnamed: 12  Unnamed: 13  Unnamed: 14  Unnamed: 15  \\\n",
       "0              NaN          NaN          NaN          NaN          NaN   \n",
       "1              NaN          NaN          NaN          NaN          NaN   \n",
       "2              NaN          NaN          NaN          NaN          NaN   \n",
       "3              NaN          NaN          NaN          NaN          NaN   \n",
       "4              NaN          NaN          NaN          NaN          NaN   \n",
       "...            ...          ...          ...          ...          ...   \n",
       "96748          NaN          NaN          NaN          NaN          NaN   \n",
       "96749          NaN          NaN          NaN          NaN          NaN   \n",
       "96750          NaN          NaN          NaN          NaN          NaN   \n",
       "96751          NaN          NaN          NaN          NaN          NaN   \n",
       "96752          NaN          NaN          NaN          NaN          NaN   \n",
       "\n",
       "       Unnamed: 16  Unnamed: 17  \n",
       "0              NaN          NaN  \n",
       "1              NaN          NaN  \n",
       "2              NaN          NaN  \n",
       "3              NaN          NaN  \n",
       "4              NaN          NaN  \n",
       "...            ...          ...  \n",
       "96748          NaN          NaN  \n",
       "96749          NaN          NaN  \n",
       "96750          NaN          NaN  \n",
       "96751          NaN          NaN  \n",
       "96752          NaN          NaN  \n",
       "\n",
       "[96753 rows x 18 columns]"
      ]
     },
     "execution_count": 2,
     "metadata": {},
     "output_type": "execute_result"
    }
   ],
   "source": [
    "data = pd.read_csv('card transactions.csv')\n",
    "data"
   ]
  },
  {
   "cell_type": "code",
   "execution_count": 3,
   "id": "19896440",
   "metadata": {},
   "outputs": [
    {
     "data": {
      "text/plain": [
       "(96753, 18)"
      ]
     },
     "execution_count": 3,
     "metadata": {},
     "output_type": "execute_result"
    }
   ],
   "source": [
    "data.shape"
   ]
  },
  {
   "cell_type": "code",
   "execution_count": 4,
   "id": "022a1a7d",
   "metadata": {},
   "outputs": [],
   "source": [
    "data.dropna(how='all', axis=1,inplace=True)"
   ]
  },
  {
   "cell_type": "code",
   "execution_count": 5,
   "id": "26ade88b",
   "metadata": {},
   "outputs": [
    {
     "data": {
      "text/html": [
       "<div>\n",
       "<style scoped>\n",
       "    .dataframe tbody tr th:only-of-type {\n",
       "        vertical-align: middle;\n",
       "    }\n",
       "\n",
       "    .dataframe tbody tr th {\n",
       "        vertical-align: top;\n",
       "    }\n",
       "\n",
       "    .dataframe thead th {\n",
       "        text-align: right;\n",
       "    }\n",
       "</style>\n",
       "<table border=\"1\" class=\"dataframe\">\n",
       "  <thead>\n",
       "    <tr style=\"text-align: right;\">\n",
       "      <th></th>\n",
       "      <th>Recnum</th>\n",
       "      <th>Cardnum</th>\n",
       "      <th>Date</th>\n",
       "      <th>Merchnum</th>\n",
       "      <th>Merch description</th>\n",
       "      <th>Merch state</th>\n",
       "      <th>Merch zip</th>\n",
       "      <th>Transtype</th>\n",
       "      <th>Amount</th>\n",
       "      <th>Fraud</th>\n",
       "    </tr>\n",
       "  </thead>\n",
       "  <tbody>\n",
       "    <tr>\n",
       "      <th>0</th>\n",
       "      <td>1</td>\n",
       "      <td>5142190439</td>\n",
       "      <td>1/1/10</td>\n",
       "      <td>5509006296254</td>\n",
       "      <td>FEDEX SHP 12/23/09 AB#</td>\n",
       "      <td>TN</td>\n",
       "      <td>38118.0</td>\n",
       "      <td>P</td>\n",
       "      <td>3.62</td>\n",
       "      <td>0</td>\n",
       "    </tr>\n",
       "    <tr>\n",
       "      <th>1</th>\n",
       "      <td>2</td>\n",
       "      <td>5142183973</td>\n",
       "      <td>1/1/10</td>\n",
       "      <td>61003026333</td>\n",
       "      <td>SERVICE MERCHANDISE #81</td>\n",
       "      <td>MA</td>\n",
       "      <td>1803.0</td>\n",
       "      <td>P</td>\n",
       "      <td>31.42</td>\n",
       "      <td>0</td>\n",
       "    </tr>\n",
       "    <tr>\n",
       "      <th>2</th>\n",
       "      <td>3</td>\n",
       "      <td>5142131721</td>\n",
       "      <td>1/1/10</td>\n",
       "      <td>4503082993600</td>\n",
       "      <td>OFFICE DEPOT #191</td>\n",
       "      <td>MD</td>\n",
       "      <td>20706.0</td>\n",
       "      <td>P</td>\n",
       "      <td>178.49</td>\n",
       "      <td>0</td>\n",
       "    </tr>\n",
       "    <tr>\n",
       "      <th>3</th>\n",
       "      <td>4</td>\n",
       "      <td>5142148452</td>\n",
       "      <td>1/1/10</td>\n",
       "      <td>5509006296254</td>\n",
       "      <td>FEDEX SHP 12/28/09 AB#</td>\n",
       "      <td>TN</td>\n",
       "      <td>38118.0</td>\n",
       "      <td>P</td>\n",
       "      <td>3.62</td>\n",
       "      <td>0</td>\n",
       "    </tr>\n",
       "    <tr>\n",
       "      <th>4</th>\n",
       "      <td>5</td>\n",
       "      <td>5142190439</td>\n",
       "      <td>1/1/10</td>\n",
       "      <td>5509006296254</td>\n",
       "      <td>FEDEX SHP 12/23/09 AB#</td>\n",
       "      <td>TN</td>\n",
       "      <td>38118.0</td>\n",
       "      <td>P</td>\n",
       "      <td>3.62</td>\n",
       "      <td>0</td>\n",
       "    </tr>\n",
       "    <tr>\n",
       "      <th>...</th>\n",
       "      <td>...</td>\n",
       "      <td>...</td>\n",
       "      <td>...</td>\n",
       "      <td>...</td>\n",
       "      <td>...</td>\n",
       "      <td>...</td>\n",
       "      <td>...</td>\n",
       "      <td>...</td>\n",
       "      <td>...</td>\n",
       "      <td>...</td>\n",
       "    </tr>\n",
       "    <tr>\n",
       "      <th>96748</th>\n",
       "      <td>96749</td>\n",
       "      <td>5142276053</td>\n",
       "      <td>12/31/10</td>\n",
       "      <td>3500000006160</td>\n",
       "      <td>BEST BUY      00001610</td>\n",
       "      <td>KY</td>\n",
       "      <td>41042.0</td>\n",
       "      <td>P</td>\n",
       "      <td>84.79</td>\n",
       "      <td>0</td>\n",
       "    </tr>\n",
       "    <tr>\n",
       "      <th>96749</th>\n",
       "      <td>96750</td>\n",
       "      <td>5142225701</td>\n",
       "      <td>12/31/10</td>\n",
       "      <td>8090710030950</td>\n",
       "      <td>MARKUS OFFICE SUPPLIES</td>\n",
       "      <td>OH</td>\n",
       "      <td>45248.0</td>\n",
       "      <td>P</td>\n",
       "      <td>118.75</td>\n",
       "      <td>0</td>\n",
       "    </tr>\n",
       "    <tr>\n",
       "      <th>96750</th>\n",
       "      <td>96751</td>\n",
       "      <td>5142226486</td>\n",
       "      <td>12/31/10</td>\n",
       "      <td>4503057341100</td>\n",
       "      <td>TECH PAC, INC</td>\n",
       "      <td>OH</td>\n",
       "      <td>45150.0</td>\n",
       "      <td>P</td>\n",
       "      <td>363.56</td>\n",
       "      <td>0</td>\n",
       "    </tr>\n",
       "    <tr>\n",
       "      <th>96751</th>\n",
       "      <td>96752</td>\n",
       "      <td>5142244619</td>\n",
       "      <td>12/31/10</td>\n",
       "      <td>8834000695412</td>\n",
       "      <td>BUY.COM</td>\n",
       "      <td>CA</td>\n",
       "      <td>92656.0</td>\n",
       "      <td>P</td>\n",
       "      <td>2202.03</td>\n",
       "      <td>0</td>\n",
       "    </tr>\n",
       "    <tr>\n",
       "      <th>96752</th>\n",
       "      <td>96753</td>\n",
       "      <td>5142243247</td>\n",
       "      <td>12/31/10</td>\n",
       "      <td>9108347680006</td>\n",
       "      <td>STAPLES NATIONAL #471</td>\n",
       "      <td>NJ</td>\n",
       "      <td>7606.0</td>\n",
       "      <td>P</td>\n",
       "      <td>554.64</td>\n",
       "      <td>0</td>\n",
       "    </tr>\n",
       "  </tbody>\n",
       "</table>\n",
       "<p>96753 rows × 10 columns</p>\n",
       "</div>"
      ],
      "text/plain": [
       "       Recnum     Cardnum      Date       Merchnum        Merch description  \\\n",
       "0           1  5142190439    1/1/10  5509006296254   FEDEX SHP 12/23/09 AB#   \n",
       "1           2  5142183973    1/1/10    61003026333  SERVICE MERCHANDISE #81   \n",
       "2           3  5142131721    1/1/10  4503082993600        OFFICE DEPOT #191   \n",
       "3           4  5142148452    1/1/10  5509006296254   FEDEX SHP 12/28/09 AB#   \n",
       "4           5  5142190439    1/1/10  5509006296254   FEDEX SHP 12/23/09 AB#   \n",
       "...       ...         ...       ...            ...                      ...   \n",
       "96748   96749  5142276053  12/31/10  3500000006160   BEST BUY      00001610   \n",
       "96749   96750  5142225701  12/31/10  8090710030950   MARKUS OFFICE SUPPLIES   \n",
       "96750   96751  5142226486  12/31/10  4503057341100            TECH PAC, INC   \n",
       "96751   96752  5142244619  12/31/10  8834000695412                  BUY.COM   \n",
       "96752   96753  5142243247  12/31/10  9108347680006    STAPLES NATIONAL #471   \n",
       "\n",
       "      Merch state  Merch zip Transtype   Amount  Fraud  \n",
       "0              TN    38118.0         P     3.62      0  \n",
       "1              MA     1803.0         P    31.42      0  \n",
       "2              MD    20706.0         P   178.49      0  \n",
       "3              TN    38118.0         P     3.62      0  \n",
       "4              TN    38118.0         P     3.62      0  \n",
       "...           ...        ...       ...      ...    ...  \n",
       "96748          KY    41042.0         P    84.79      0  \n",
       "96749          OH    45248.0         P   118.75      0  \n",
       "96750          OH    45150.0         P   363.56      0  \n",
       "96751          CA    92656.0         P  2202.03      0  \n",
       "96752          NJ     7606.0         P   554.64      0  \n",
       "\n",
       "[96753 rows x 10 columns]"
      ]
     },
     "execution_count": 5,
     "metadata": {},
     "output_type": "execute_result"
    }
   ],
   "source": [
    "data"
   ]
  },
  {
   "cell_type": "code",
   "execution_count": 6,
   "id": "37e96c10",
   "metadata": {},
   "outputs": [],
   "source": [
    "data['Date'] = pd.to_datetime(data['Date'])"
   ]
  },
  {
   "cell_type": "code",
   "execution_count": 7,
   "id": "4544e8d9",
   "metadata": {},
   "outputs": [],
   "source": [
    "data['Fraud']=data['Fraud'].astype(str)"
   ]
  },
  {
   "cell_type": "code",
   "execution_count": 8,
   "id": "4b686d08",
   "metadata": {},
   "outputs": [],
   "source": [
    "##filter "
   ]
  },
  {
   "cell_type": "code",
   "execution_count": 9,
   "id": "1cd61860",
   "metadata": {},
   "outputs": [],
   "source": [
    "##remove single amount outlier (max_amount)\n",
    "# max_amount = data['Amount'].idxmax()\n",
    "# max_amount"
   ]
  },
  {
   "cell_type": "code",
   "execution_count": 10,
   "id": "a5800e17",
   "metadata": {},
   "outputs": [],
   "source": [
    "#data = data.drop(max_amount)"
   ]
  },
  {
   "cell_type": "code",
   "execution_count": 11,
   "id": "47f3d296",
   "metadata": {},
   "outputs": [],
   "source": [
    "##keep only 'purchased' data\n",
    "data = data[data['Transtype'] =='P']"
   ]
  },
  {
   "cell_type": "code",
   "execution_count": 12,
   "id": "1b59ed0d",
   "metadata": {},
   "outputs": [],
   "source": [
    "data=data[data['Amount']<2500000]"
   ]
  },
  {
   "cell_type": "code",
   "execution_count": 13,
   "id": "1450a1e7",
   "metadata": {},
   "outputs": [],
   "source": [
    "## clean and impute merchnum"
   ]
  },
  {
   "cell_type": "code",
   "execution_count": 14,
   "id": "d99c1842",
   "metadata": {},
   "outputs": [],
   "source": [
    "data['Merchnum']=data['Merchnum'].replace({'0':np.nan})"
   ]
  },
  {
   "cell_type": "code",
   "execution_count": 15,
   "id": "480bd2c9",
   "metadata": {},
   "outputs": [
    {
     "data": {
      "text/plain": [
       "3251"
      ]
     },
     "execution_count": 15,
     "metadata": {},
     "output_type": "execute_result"
    }
   ],
   "source": [
    "data['Merchnum'].isnull().sum()"
   ]
  },
  {
   "cell_type": "code",
   "execution_count": 16,
   "id": "3c032f3c",
   "metadata": {},
   "outputs": [],
   "source": [
    "merchdes_merchnum={}\n",
    "for index, merchdes in data[data['Merch description'].notnull()][data['Merchnum'].notnull()]['Merch description'].items():\n",
    "    if pd.isnull(merchdes) == True:\n",
    "        continue\n",
    "    elif merchdes not in merchdes_merchnum:\n",
    "        merchdes_merchnum[merchdes] = data.loc[index, 'Merchnum']"
   ]
  },
  {
   "cell_type": "code",
   "execution_count": 17,
   "id": "2ea25ab0",
   "metadata": {},
   "outputs": [],
   "source": [
    "## fill in my mapping with merch description\n",
    "data['Merchnum']= data['Merchnum'].fillna(data['Merch description'].map(merchdes_merchnum))"
   ]
  },
  {
   "cell_type": "code",
   "execution_count": 18,
   "id": "a9edf60a",
   "metadata": {},
   "outputs": [
    {
     "data": {
      "text/plain": [
       "2094"
      ]
     },
     "execution_count": 18,
     "metadata": {},
     "output_type": "execute_result"
    }
   ],
   "source": [
    "data['Merchnum'].isnull().sum()"
   ]
  },
  {
   "cell_type": "code",
   "execution_count": 19,
   "id": "699c6650",
   "metadata": {},
   "outputs": [],
   "source": [
    "data['Merchnum']= data['Merchnum'].mask(data['Merch description']=='RETAIL CREDIT ADJUSTMENT', 'unknown')\n",
    "data['Merchnum']= data['Merchnum'].mask(data['Merch description']=='RETAIL DEBIT ADJUSTMENT', 'unknown')"
   ]
  },
  {
   "cell_type": "code",
   "execution_count": 20,
   "id": "d633107e",
   "metadata": {},
   "outputs": [
    {
     "data": {
      "text/plain": [
       "1403"
      ]
     },
     "execution_count": 20,
     "metadata": {},
     "output_type": "execute_result"
    }
   ],
   "source": [
    "data['Merchnum'].isnull().sum()"
   ]
  },
  {
   "cell_type": "code",
   "execution_count": 21,
   "id": "13c3810c",
   "metadata": {},
   "outputs": [
    {
     "data": {
      "text/plain": [
       "array(['MONTGOMERY COLLEGE-PHONE', 'PACKAGE PLACE  THE',\n",
       "       'CUBIX CORPORATION', 'SIGNAL GRAPHICS PRINTING',\n",
       "       'C & M OFFICE EQUIPMENT', \"TOMMY'S TRAILERS\",\n",
       "       'Z WORLD/RABBIT SEMICONDUC', 'IMPAC/TRI-COUNTY/FREED',\n",
       "       'REPROGRPHC TECHNLGIES INC', 'STP SPECIALITY TECH',\n",
       "       'VANGARD INTERNAITONAL', 'BLACKWELL SCIENCE', 'CDN ISOTOPES INC',\n",
       "       'INTERACTIVE SOFTWARE S', 'H R WILLIAMS MILL SUPP',\n",
       "       'ELSEVIER SCIENCE BV', 'COLORADO GARDEN SHOW',\n",
       "       'PEARSON EDUCATION CANADA', 'PONTOTOC AREA VO-TECH',\n",
       "       'NATIONAL BAG COMPANY'], dtype=object)"
      ]
     },
     "execution_count": 21,
     "metadata": {},
     "output_type": "execute_result"
    }
   ],
   "source": [
    "data.loc[data.Merchnum.isna(), 'Merch description'].unique()[:20]"
   ]
  },
  {
   "cell_type": "code",
   "execution_count": 22,
   "id": "3643bdf6",
   "metadata": {},
   "outputs": [
    {
     "data": {
      "text/plain": [
       "508"
      ]
     },
     "execution_count": 22,
     "metadata": {},
     "output_type": "execute_result"
    }
   ],
   "source": [
    "data.loc[data.Merchnum.isna(), 'Merch description'].nunique()"
   ]
  },
  {
   "cell_type": "code",
   "execution_count": 23,
   "id": "6f593c62",
   "metadata": {},
   "outputs": [],
   "source": [
    "##adding new merchnums\n",
    "#each new uniqueu merchnum will be max(merchnum)+1\n",
    "merchnum_create={}\n",
    "max_merchnum=pd.to_numeric(data.Merchnum, errors='coerce').max()\n",
    "for merch_desc in data.loc[data.Merchnum.isna(), 'Merch description'].unique():\n",
    "    merchnum_create[merch_desc] = str(max_merchnum+1)\n",
    "    max_merchnum +=1"
   ]
  },
  {
   "cell_type": "code",
   "execution_count": 24,
   "id": "ba8ff8df",
   "metadata": {},
   "outputs": [
    {
     "name": "stdout",
     "output_type": "stream",
     "text": [
      "Recnum 0\n",
      "Cardnum 0\n",
      "Date 0\n",
      "Merchnum 0\n",
      "Merch description 0\n",
      "Merch state 1020\n",
      "Merch zip 4300\n",
      "Transtype 0\n",
      "Amount 0\n",
      "Fraud 0\n"
     ]
    }
   ],
   "source": [
    "##fill in by mapping with Merch description (newly create merchnums)\n",
    "data['Merchnum']=data['Merchnum'].fillna(data['Merch description'].map(merchnum_create))\n",
    "for i in data.columns:\n",
    "    print(i, data[i].isnull().sum())"
   ]
  },
  {
   "cell_type": "code",
   "execution_count": null,
   "id": "4fb17ccd",
   "metadata": {},
   "outputs": [],
   "source": []
  },
  {
   "cell_type": "code",
   "execution_count": 25,
   "id": "48107464",
   "metadata": {},
   "outputs": [],
   "source": [
    "###clean and impute State"
   ]
  },
  {
   "cell_type": "code",
   "execution_count": 26,
   "id": "0fc09980",
   "metadata": {},
   "outputs": [
    {
     "data": {
      "text/plain": [
       "1020"
      ]
     },
     "execution_count": 26,
     "metadata": {},
     "output_type": "execute_result"
    }
   ],
   "source": [
    "data['Merch state'].isnull().sum()"
   ]
  },
  {
   "cell_type": "code",
   "execution_count": 27,
   "id": "5cd3fb99",
   "metadata": {},
   "outputs": [
    {
     "data": {
      "text/plain": [
       "array([9.2600e+02, 9.2900e+02, 1.4000e+03, 6.5132e+04, 8.6899e+04,\n",
       "       2.3080e+04, 6.0528e+04, 9.3400e+02, 9.0200e+02, 7.3800e+02,\n",
       "       9.0805e+04, 7.6302e+04, 9.0000e+00, 9.1400e+02, 6.0000e+00,\n",
       "       9.5461e+04, 5.0823e+04, 2.0000e+00, 4.8700e+04, 6.8000e+02,\n",
       "       1.0000e+00, 6.8100e+02, 6.2300e+02, 7.2600e+02, 9.3600e+02,\n",
       "       1.2108e+04, 7.9100e+02, 9.0700e+02, 9.2200e+02, 9.2000e+02,\n",
       "       3.0000e+00, 8.0100e+02, 8.0000e+00, 3.1040e+04, 3.8117e+04,\n",
       "       4.1160e+04])"
      ]
     },
     "execution_count": 27,
     "metadata": {},
     "output_type": "execute_result"
    }
   ],
   "source": [
    "data[(data['Merch state'].isnull())& (data['Merch zip'].notnull())]['Merch zip'].unique()"
   ]
  },
  {
   "cell_type": "code",
   "execution_count": 28,
   "id": "cbdc0b7f",
   "metadata": {},
   "outputs": [],
   "source": [
    "##dict for mapping \n",
    "zip_state = {}\n",
    "for index, zip5 in data[data['Merch zip'].notnull()]['Merch zip'].items():\n",
    "    if zip5 not in zip_state:\n",
    "        zip_state[zip5] = data.loc[index, 'Merch state']\n",
    "        \n",
    "zip_state['00926']='PR'\n",
    "zip_state['00929']='PR'\n",
    "zip_state['00934']='PR'\n",
    "zip_state['00902']='PR'\n",
    "zip_state['00738']='PR'\n",
    "zip_state['90805']='CA'\n",
    "zip_state['76302']='TX'\n",
    "zip_state['00914']='PR'\n",
    "zip_state['95461']='CA'\n",
    "zip_state['00680']='PR'\n",
    "zip_state['00623']='PR'\n",
    "zip_state['00726']='PR'\n",
    "zip_state['00936']='PR'\n",
    "zip_state['12108']='NY'\n",
    "zip_state['00791']='PR'\n",
    "zip_state['00907']='PR'\n",
    "zip_state['00922']='PR'\n",
    "zip_state['00920']='PR'\n",
    "zip_state['00801']='VI'\n",
    "zip_state['31040']='GA'\n",
    "zip_state['41160']='KY'\n",
    "zip_state['00681']='PR'\n"
   ]
  },
  {
   "cell_type": "code",
   "execution_count": 29,
   "id": "06ca0c2e",
   "metadata": {},
   "outputs": [],
   "source": [
    "merchnum_state ={}\n",
    "for index, merchnum in data[data['Merchnum'].notnull()]['Merchnum'].items():\n",
    "    if merchnum not in merchnum_state:\n",
    "        merchnum_state[merchnum]= data.loc[index,'Merch state']"
   ]
  },
  {
   "cell_type": "code",
   "execution_count": 30,
   "id": "daaa7c21",
   "metadata": {},
   "outputs": [],
   "source": [
    "merchdes_state ={}\n",
    "for index, merchdes in data[data['Merch description'].notnull()]['Merch description'].items():\n",
    "    if merchdes not in merchdes_state:\n",
    "        merchdes_state[merchdes] = data.loc[index, 'Merch state']"
   ]
  },
  {
   "cell_type": "code",
   "execution_count": 31,
   "id": "b9bc7833",
   "metadata": {},
   "outputs": [],
   "source": [
    "## fill in by mapping with zip, merchnum and merch description\n",
    "data['Merch state'] = data['Merch state'].fillna(data['Merch zip'].map(zip_state))\n",
    "data['Merch state'] = data['Merch state'].fillna(data['Merchnum'].map(merchnum_state))\n",
    "data['Merch state'] = data['Merch state'].fillna(data['Merch description'].map(merchdes_state))"
   ]
  },
  {
   "cell_type": "code",
   "execution_count": 32,
   "id": "4d49469a",
   "metadata": {},
   "outputs": [],
   "source": [
    "##assgin unknown for adjustments transactions\n",
    "data['Merch state']=data['Merch state'].mask(data['Merch description'] == 'RETAIL CREDIT ADJUSTMENT','unknown')\n",
    "data['Merch state']=data['Merch state'].mask(data['Merch description'] == 'RETAIL DEBIT ADJUSTMENT','unknown')"
   ]
  },
  {
   "cell_type": "code",
   "execution_count": 33,
   "id": "881c1f66",
   "metadata": {},
   "outputs": [
    {
     "data": {
      "text/plain": [
       "346"
      ]
     },
     "execution_count": 33,
     "metadata": {},
     "output_type": "execute_result"
    }
   ],
   "source": [
    "data['Merch state'].isnull().sum()"
   ]
  },
  {
   "cell_type": "code",
   "execution_count": 34,
   "id": "a45bcff4",
   "metadata": {},
   "outputs": [],
   "source": [
    "##change non-US states might carefully be useful since fraud could be foreign transactions, maybe put a 'foreign' tag ot just\n",
    "#leave them as is."
   ]
  },
  {
   "cell_type": "code",
   "execution_count": 35,
   "id": "05ec2aaa",
   "metadata": {},
   "outputs": [],
   "source": [
    "states = ['AL','AK','AZ','AR','CA','CO','CT','DC','DE','FL','GA','HI','ID','IL','IN','IA','KS','KY','LA','ME','MD','MA','MI',\n",
    "         'MN','MS','MO','MT','NE','NV','NH','NJ','NM','NY','NC','ND','OH','OK','OR','PA','RI','SC','SD','TN','TX','UT','VT',\n",
    "         'VA','WA','WV','WI','WY','VI','PR',np.nan, 'unknown']\n",
    "\n",
    "for index, state in data['Merch state'].items():\n",
    "    if state not in states:\n",
    "        data.loc[index, 'Merch state']='foreign'"
   ]
  },
  {
   "cell_type": "code",
   "execution_count": 36,
   "id": "c215c770",
   "metadata": {},
   "outputs": [],
   "source": [
    "data['Merch state'].fillna('unknown', inplace=True )"
   ]
  },
  {
   "cell_type": "code",
   "execution_count": 37,
   "id": "8f4b152f",
   "metadata": {},
   "outputs": [
    {
     "data": {
      "text/plain": [
       "0"
      ]
     },
     "execution_count": 37,
     "metadata": {},
     "output_type": "execute_result"
    }
   ],
   "source": [
    "data['Merch state'].isnull().sum()"
   ]
  },
  {
   "cell_type": "code",
   "execution_count": 38,
   "id": "6ecaef34",
   "metadata": {},
   "outputs": [
    {
     "data": {
      "text/html": [
       "<div>\n",
       "<style scoped>\n",
       "    .dataframe tbody tr th:only-of-type {\n",
       "        vertical-align: middle;\n",
       "    }\n",
       "\n",
       "    .dataframe tbody tr th {\n",
       "        vertical-align: top;\n",
       "    }\n",
       "\n",
       "    .dataframe thead th {\n",
       "        text-align: right;\n",
       "    }\n",
       "</style>\n",
       "<table border=\"1\" class=\"dataframe\">\n",
       "  <thead>\n",
       "    <tr style=\"text-align: right;\">\n",
       "      <th></th>\n",
       "      <th>Recnum</th>\n",
       "      <th>Cardnum</th>\n",
       "      <th>Date</th>\n",
       "      <th>Merchnum</th>\n",
       "      <th>Merch description</th>\n",
       "      <th>Merch state</th>\n",
       "      <th>Merch zip</th>\n",
       "      <th>Transtype</th>\n",
       "      <th>Amount</th>\n",
       "      <th>Fraud</th>\n",
       "    </tr>\n",
       "  </thead>\n",
       "  <tbody>\n",
       "    <tr>\n",
       "      <th>0</th>\n",
       "      <td>1</td>\n",
       "      <td>5142190439</td>\n",
       "      <td>2010-01-01</td>\n",
       "      <td>5509006296254</td>\n",
       "      <td>FEDEX SHP 12/23/09 AB#</td>\n",
       "      <td>TN</td>\n",
       "      <td>38118.0</td>\n",
       "      <td>P</td>\n",
       "      <td>3.62</td>\n",
       "      <td>0</td>\n",
       "    </tr>\n",
       "    <tr>\n",
       "      <th>1</th>\n",
       "      <td>2</td>\n",
       "      <td>5142183973</td>\n",
       "      <td>2010-01-01</td>\n",
       "      <td>61003026333</td>\n",
       "      <td>SERVICE MERCHANDISE #81</td>\n",
       "      <td>MA</td>\n",
       "      <td>1803.0</td>\n",
       "      <td>P</td>\n",
       "      <td>31.42</td>\n",
       "      <td>0</td>\n",
       "    </tr>\n",
       "    <tr>\n",
       "      <th>2</th>\n",
       "      <td>3</td>\n",
       "      <td>5142131721</td>\n",
       "      <td>2010-01-01</td>\n",
       "      <td>4503082993600</td>\n",
       "      <td>OFFICE DEPOT #191</td>\n",
       "      <td>MD</td>\n",
       "      <td>20706.0</td>\n",
       "      <td>P</td>\n",
       "      <td>178.49</td>\n",
       "      <td>0</td>\n",
       "    </tr>\n",
       "    <tr>\n",
       "      <th>3</th>\n",
       "      <td>4</td>\n",
       "      <td>5142148452</td>\n",
       "      <td>2010-01-01</td>\n",
       "      <td>5509006296254</td>\n",
       "      <td>FEDEX SHP 12/28/09 AB#</td>\n",
       "      <td>TN</td>\n",
       "      <td>38118.0</td>\n",
       "      <td>P</td>\n",
       "      <td>3.62</td>\n",
       "      <td>0</td>\n",
       "    </tr>\n",
       "    <tr>\n",
       "      <th>4</th>\n",
       "      <td>5</td>\n",
       "      <td>5142190439</td>\n",
       "      <td>2010-01-01</td>\n",
       "      <td>5509006296254</td>\n",
       "      <td>FEDEX SHP 12/23/09 AB#</td>\n",
       "      <td>TN</td>\n",
       "      <td>38118.0</td>\n",
       "      <td>P</td>\n",
       "      <td>3.62</td>\n",
       "      <td>0</td>\n",
       "    </tr>\n",
       "    <tr>\n",
       "      <th>...</th>\n",
       "      <td>...</td>\n",
       "      <td>...</td>\n",
       "      <td>...</td>\n",
       "      <td>...</td>\n",
       "      <td>...</td>\n",
       "      <td>...</td>\n",
       "      <td>...</td>\n",
       "      <td>...</td>\n",
       "      <td>...</td>\n",
       "      <td>...</td>\n",
       "    </tr>\n",
       "    <tr>\n",
       "      <th>96748</th>\n",
       "      <td>96749</td>\n",
       "      <td>5142276053</td>\n",
       "      <td>2010-12-31</td>\n",
       "      <td>3500000006160</td>\n",
       "      <td>BEST BUY      00001610</td>\n",
       "      <td>KY</td>\n",
       "      <td>41042.0</td>\n",
       "      <td>P</td>\n",
       "      <td>84.79</td>\n",
       "      <td>0</td>\n",
       "    </tr>\n",
       "    <tr>\n",
       "      <th>96749</th>\n",
       "      <td>96750</td>\n",
       "      <td>5142225701</td>\n",
       "      <td>2010-12-31</td>\n",
       "      <td>8090710030950</td>\n",
       "      <td>MARKUS OFFICE SUPPLIES</td>\n",
       "      <td>OH</td>\n",
       "      <td>45248.0</td>\n",
       "      <td>P</td>\n",
       "      <td>118.75</td>\n",
       "      <td>0</td>\n",
       "    </tr>\n",
       "    <tr>\n",
       "      <th>96750</th>\n",
       "      <td>96751</td>\n",
       "      <td>5142226486</td>\n",
       "      <td>2010-12-31</td>\n",
       "      <td>4503057341100</td>\n",
       "      <td>TECH PAC, INC</td>\n",
       "      <td>OH</td>\n",
       "      <td>45150.0</td>\n",
       "      <td>P</td>\n",
       "      <td>363.56</td>\n",
       "      <td>0</td>\n",
       "    </tr>\n",
       "    <tr>\n",
       "      <th>96751</th>\n",
       "      <td>96752</td>\n",
       "      <td>5142244619</td>\n",
       "      <td>2010-12-31</td>\n",
       "      <td>8834000695412</td>\n",
       "      <td>BUY.COM</td>\n",
       "      <td>CA</td>\n",
       "      <td>92656.0</td>\n",
       "      <td>P</td>\n",
       "      <td>2202.03</td>\n",
       "      <td>0</td>\n",
       "    </tr>\n",
       "    <tr>\n",
       "      <th>96752</th>\n",
       "      <td>96753</td>\n",
       "      <td>5142243247</td>\n",
       "      <td>2010-12-31</td>\n",
       "      <td>9108347680006</td>\n",
       "      <td>STAPLES NATIONAL #471</td>\n",
       "      <td>NJ</td>\n",
       "      <td>7606.0</td>\n",
       "      <td>P</td>\n",
       "      <td>554.64</td>\n",
       "      <td>0</td>\n",
       "    </tr>\n",
       "  </tbody>\n",
       "</table>\n",
       "<p>96397 rows × 10 columns</p>\n",
       "</div>"
      ],
      "text/plain": [
       "       Recnum     Cardnum       Date       Merchnum        Merch description  \\\n",
       "0           1  5142190439 2010-01-01  5509006296254   FEDEX SHP 12/23/09 AB#   \n",
       "1           2  5142183973 2010-01-01    61003026333  SERVICE MERCHANDISE #81   \n",
       "2           3  5142131721 2010-01-01  4503082993600        OFFICE DEPOT #191   \n",
       "3           4  5142148452 2010-01-01  5509006296254   FEDEX SHP 12/28/09 AB#   \n",
       "4           5  5142190439 2010-01-01  5509006296254   FEDEX SHP 12/23/09 AB#   \n",
       "...       ...         ...        ...            ...                      ...   \n",
       "96748   96749  5142276053 2010-12-31  3500000006160   BEST BUY      00001610   \n",
       "96749   96750  5142225701 2010-12-31  8090710030950   MARKUS OFFICE SUPPLIES   \n",
       "96750   96751  5142226486 2010-12-31  4503057341100            TECH PAC, INC   \n",
       "96751   96752  5142244619 2010-12-31  8834000695412                  BUY.COM   \n",
       "96752   96753  5142243247 2010-12-31  9108347680006    STAPLES NATIONAL #471   \n",
       "\n",
       "      Merch state  Merch zip Transtype   Amount Fraud  \n",
       "0              TN    38118.0         P     3.62     0  \n",
       "1              MA     1803.0         P    31.42     0  \n",
       "2              MD    20706.0         P   178.49     0  \n",
       "3              TN    38118.0         P     3.62     0  \n",
       "4              TN    38118.0         P     3.62     0  \n",
       "...           ...        ...       ...      ...   ...  \n",
       "96748          KY    41042.0         P    84.79     0  \n",
       "96749          OH    45248.0         P   118.75     0  \n",
       "96750          OH    45150.0         P   363.56     0  \n",
       "96751          CA    92656.0         P  2202.03     0  \n",
       "96752          NJ     7606.0         P   554.64     0  \n",
       "\n",
       "[96397 rows x 10 columns]"
      ]
     },
     "execution_count": 38,
     "metadata": {},
     "output_type": "execute_result"
    }
   ],
   "source": [
    "data"
   ]
  },
  {
   "cell_type": "code",
   "execution_count": 39,
   "id": "72a4d053",
   "metadata": {},
   "outputs": [],
   "source": [
    "##clean and impute zip"
   ]
  },
  {
   "cell_type": "code",
   "execution_count": 40,
   "id": "559fb361",
   "metadata": {},
   "outputs": [
    {
     "data": {
      "text/plain": [
       "4300"
      ]
     },
     "execution_count": 40,
     "metadata": {},
     "output_type": "execute_result"
    }
   ],
   "source": [
    "data['Merch zip'].isnull().sum()"
   ]
  },
  {
   "cell_type": "code",
   "execution_count": 41,
   "id": "6967247b",
   "metadata": {},
   "outputs": [],
   "source": [
    "merchnum_zip = {}\n",
    "for index, merchnum in data[data['Merchnum'].notnull()]['Merchnum'].items():\n",
    "    if merchnum not in merchnum_zip:\n",
    "        merchnum_zip[merchnum] = data.loc[index, 'Merch zip']"
   ]
  },
  {
   "cell_type": "code",
   "execution_count": 42,
   "id": "617fa9de",
   "metadata": {},
   "outputs": [],
   "source": [
    "merchdes_zip = {}\n",
    "for index, merchdes in data[data['Merch description'].notnull()]['Merch description'].items():\n",
    "    if merchdes not in merchdes_zip:\n",
    "        merchdes_zip[merchdes] = data.loc[index, 'Merch zip']"
   ]
  },
  {
   "cell_type": "code",
   "execution_count": 43,
   "id": "1f79acb0",
   "metadata": {},
   "outputs": [],
   "source": [
    "# fill in mu mapping with merchnum and merch description\n",
    "data['Merch zip']=data['Merch zip'].fillna(data['Merchnum'].map(merchnum_zip))\n",
    "data['Merch zip']=data['Merch zip'].fillna(data['Merch description'].map(merchdes_zip))"
   ]
  },
  {
   "cell_type": "code",
   "execution_count": 44,
   "id": "f531c1e0",
   "metadata": {},
   "outputs": [
    {
     "data": {
      "text/plain": [
       "2658"
      ]
     },
     "execution_count": 44,
     "metadata": {},
     "output_type": "execute_result"
    }
   ],
   "source": [
    "data['Merch zip'].isnull().sum()"
   ]
  },
  {
   "cell_type": "code",
   "execution_count": 45,
   "id": "7b927c2f",
   "metadata": {},
   "outputs": [],
   "source": [
    "##assign unknown for adjustments transactions\n",
    "data['Merch zip'] = data['Merch zip'].mask(data['Merch zip'] == 'RETAIL CREDIT ADJUSTMENT','unknown')\n",
    "data['Merch zip'] = data['Merch zip'].mask(data['Merch zip'] == 'RETAIL DEBIT ADJUSTMENT','unknown')"
   ]
  },
  {
   "cell_type": "code",
   "execution_count": 46,
   "id": "24de14a0",
   "metadata": {},
   "outputs": [
    {
     "data": {
      "text/plain": [
       "2658"
      ]
     },
     "execution_count": 46,
     "metadata": {},
     "output_type": "execute_result"
    }
   ],
   "source": [
    "data['Merch zip'].isnull().sum()"
   ]
  },
  {
   "cell_type": "code",
   "execution_count": 47,
   "id": "12710f91",
   "metadata": {},
   "outputs": [
    {
     "data": {
      "text/plain": [
       "0"
      ]
     },
     "execution_count": 47,
     "metadata": {},
     "output_type": "execute_result"
    }
   ],
   "source": [
    "data['Merch zip'].fillna('unknown', inplace = True)\n",
    "data['Merch zip'].isnull().sum()"
   ]
  },
  {
   "cell_type": "code",
   "execution_count": 72,
   "id": "bba3d2d6",
   "metadata": {},
   "outputs": [
    {
     "data": {
      "text/html": [
       "<div>\n",
       "<style scoped>\n",
       "    .dataframe tbody tr th:only-of-type {\n",
       "        vertical-align: middle;\n",
       "    }\n",
       "\n",
       "    .dataframe tbody tr th {\n",
       "        vertical-align: top;\n",
       "    }\n",
       "\n",
       "    .dataframe thead th {\n",
       "        text-align: right;\n",
       "    }\n",
       "</style>\n",
       "<table border=\"1\" class=\"dataframe\">\n",
       "  <thead>\n",
       "    <tr style=\"text-align: right;\">\n",
       "      <th></th>\n",
       "      <th>Recnum</th>\n",
       "      <th>Cardnum</th>\n",
       "      <th>Date</th>\n",
       "      <th>Merchnum</th>\n",
       "      <th>Merch description</th>\n",
       "      <th>Merch state</th>\n",
       "      <th>Merch zip</th>\n",
       "      <th>Transtype</th>\n",
       "      <th>Amount</th>\n",
       "      <th>Fraud</th>\n",
       "    </tr>\n",
       "  </thead>\n",
       "  <tbody>\n",
       "    <tr>\n",
       "      <th>0</th>\n",
       "      <td>1</td>\n",
       "      <td>5142190439</td>\n",
       "      <td>2010-01-01</td>\n",
       "      <td>5509006296254</td>\n",
       "      <td>FEDEX SHP 12/23/09 AB#</td>\n",
       "      <td>TN</td>\n",
       "      <td>38118.0</td>\n",
       "      <td>P</td>\n",
       "      <td>3.62</td>\n",
       "      <td>0</td>\n",
       "    </tr>\n",
       "    <tr>\n",
       "      <th>1</th>\n",
       "      <td>2</td>\n",
       "      <td>5142183973</td>\n",
       "      <td>2010-01-01</td>\n",
       "      <td>61003026333</td>\n",
       "      <td>SERVICE MERCHANDISE #81</td>\n",
       "      <td>MA</td>\n",
       "      <td>1803.0</td>\n",
       "      <td>P</td>\n",
       "      <td>31.42</td>\n",
       "      <td>0</td>\n",
       "    </tr>\n",
       "    <tr>\n",
       "      <th>2</th>\n",
       "      <td>3</td>\n",
       "      <td>5142131721</td>\n",
       "      <td>2010-01-01</td>\n",
       "      <td>4503082993600</td>\n",
       "      <td>OFFICE DEPOT #191</td>\n",
       "      <td>MD</td>\n",
       "      <td>20706.0</td>\n",
       "      <td>P</td>\n",
       "      <td>178.49</td>\n",
       "      <td>0</td>\n",
       "    </tr>\n",
       "    <tr>\n",
       "      <th>3</th>\n",
       "      <td>4</td>\n",
       "      <td>5142148452</td>\n",
       "      <td>2010-01-01</td>\n",
       "      <td>5509006296254</td>\n",
       "      <td>FEDEX SHP 12/28/09 AB#</td>\n",
       "      <td>TN</td>\n",
       "      <td>38118.0</td>\n",
       "      <td>P</td>\n",
       "      <td>3.62</td>\n",
       "      <td>0</td>\n",
       "    </tr>\n",
       "    <tr>\n",
       "      <th>4</th>\n",
       "      <td>5</td>\n",
       "      <td>5142190439</td>\n",
       "      <td>2010-01-01</td>\n",
       "      <td>5509006296254</td>\n",
       "      <td>FEDEX SHP 12/23/09 AB#</td>\n",
       "      <td>TN</td>\n",
       "      <td>38118.0</td>\n",
       "      <td>P</td>\n",
       "      <td>3.62</td>\n",
       "      <td>0</td>\n",
       "    </tr>\n",
       "  </tbody>\n",
       "</table>\n",
       "</div>"
      ],
      "text/plain": [
       "   Recnum     Cardnum       Date       Merchnum        Merch description  \\\n",
       "0       1  5142190439 2010-01-01  5509006296254   FEDEX SHP 12/23/09 AB#   \n",
       "1       2  5142183973 2010-01-01    61003026333  SERVICE MERCHANDISE #81   \n",
       "2       3  5142131721 2010-01-01  4503082993600        OFFICE DEPOT #191   \n",
       "3       4  5142148452 2010-01-01  5509006296254   FEDEX SHP 12/28/09 AB#   \n",
       "4       5  5142190439 2010-01-01  5509006296254   FEDEX SHP 12/23/09 AB#   \n",
       "\n",
       "  Merch state Merch zip Transtype  Amount Fraud  \n",
       "0          TN   38118.0         P    3.62     0  \n",
       "1          MA    1803.0         P   31.42     0  \n",
       "2          MD   20706.0         P  178.49     0  \n",
       "3          TN   38118.0         P    3.62     0  \n",
       "4          TN   38118.0         P    3.62     0  "
      ]
     },
     "execution_count": 72,
     "metadata": {},
     "output_type": "execute_result"
    }
   ],
   "source": [
    "data.head()"
   ]
  },
  {
   "cell_type": "code",
   "execution_count": 48,
   "id": "0b433b80",
   "metadata": {},
   "outputs": [],
   "source": [
    "## export cleaned data \n",
    "data.to_csv('cleaned_data.csv', index=False)"
   ]
  },
  {
   "cell_type": "code",
   "execution_count": 49,
   "id": "a3666848",
   "metadata": {},
   "outputs": [],
   "source": [
    "##Make benchford's Law"
   ]
  },
  {
   "cell_type": "code",
   "execution_count": 50,
   "id": "c0b9dd07",
   "metadata": {},
   "outputs": [],
   "source": [
    "bf=data.copy()\n",
    "bf['amount_100']=(bf['Amount']*100).astype(str)\n",
    "bf['first_digit']= bf['amount_100'].str[0]\n",
    "dropfedex = bf[bf['Merch description'].str.contains('FEDEX')]\n",
    "droplist = dropfedex.index.tolist()\n",
    "bf1 = bf.drop(droplist)\n",
    "bf1['bin']=bf1['first_digit'].apply(lambda x: 'low' if x== '1' else ('low' if x=='2' else 'high'))"
   ]
  },
  {
   "cell_type": "code",
   "execution_count": 51,
   "id": "f81394e5",
   "metadata": {},
   "outputs": [
    {
     "name": "stdout",
     "output_type": "stream",
     "text": [
      "<class 'pandas.core.frame.DataFrame'>\n",
      "Int64Index: 84622 entries, 1 to 96752\n",
      "Data columns (total 13 columns):\n",
      " #   Column             Non-Null Count  Dtype         \n",
      "---  ------             --------------  -----         \n",
      " 0   Recnum             84622 non-null  int64         \n",
      " 1   Cardnum            84622 non-null  int64         \n",
      " 2   Date               84622 non-null  datetime64[ns]\n",
      " 3   Merchnum           84622 non-null  object        \n",
      " 4   Merch description  84622 non-null  object        \n",
      " 5   Merch state        84622 non-null  object        \n",
      " 6   Merch zip          84622 non-null  object        \n",
      " 7   Transtype          84622 non-null  object        \n",
      " 8   Amount             84622 non-null  float64       \n",
      " 9   Fraud              84622 non-null  object        \n",
      " 10  amount_100         84622 non-null  object        \n",
      " 11  first_digit        84622 non-null  object        \n",
      " 12  bin                84622 non-null  object        \n",
      "dtypes: datetime64[ns](1), float64(1), int64(2), object(9)\n",
      "memory usage: 9.0+ MB\n"
     ]
    }
   ],
   "source": [
    "bf1.info()"
   ]
  },
  {
   "cell_type": "code",
   "execution_count": 52,
   "id": "d88a574c",
   "metadata": {},
   "outputs": [],
   "source": [
    "card_bf = bf1.groupby(['Cardnum','bin']).agg({'bin': ['count']}).reset_index()\n",
    "card_bf.columns=['Cardnum','bin','count']\n",
    "card_bf = card_bf.pivot_table(index='Cardnum',columns = 'bin',values='count',aggfunc ='sum').reset_index()\n",
    "card_bf.columns=['Cardnum','n_high','n_low']\n",
    "card_bf = card_bf.fillna(1)"
   ]
  },
  {
   "cell_type": "code",
   "execution_count": 53,
   "id": "da181f8b",
   "metadata": {},
   "outputs": [],
   "source": [
    "##calculating R, 1/R, U, n, t, U_smoothed\n",
    "c=3\n",
    "n_mid =15\n",
    "card_bf['R']=(1.096*card_bf['n_low']/card_bf['n_high'])\n",
    "card_bf['1/R']=(1/card_bf['R'])\n",
    "card_bf['U']=list(map(lambda x,y: max(x,y), card_bf['R'], card_bf['1/R']))\n",
    "card_bf['n']=card_bf['n_high']+card_bf['n_low']\n",
    "card_bf['t']=((card_bf['n']-n_mid)/c)\n",
    "card_bf['U_smoothed']=list(map(lambda x, y: (1+(x-1)/(1+exp(-y))), card_bf['U'], card_bf['t']))\n",
    "card_bf['U_smoothed']=card_bf['U_smoothed']"
   ]
  },
  {
   "cell_type": "code",
   "execution_count": 54,
   "id": "2be7a6b1",
   "metadata": {},
   "outputs": [],
   "source": [
    "merch_bf = bf1.groupby(['Merchnum','bin']).agg({'bin': ['count']}).reset_index()\n",
    "merch_bf.columns=['Merchnum','bin','count']\n",
    "merch_bf = merch_bf.pivot_table(index='Merchnum', columns='bin', values='count', aggfunc='sum').reset_index()\n",
    "merch_bf.columns=['Merchnum','n_high','n_low']\n",
    "merch_bf = merch_bf.fillna(1)"
   ]
  },
  {
   "cell_type": "code",
   "execution_count": 55,
   "id": "db7f6dac",
   "metadata": {},
   "outputs": [],
   "source": [
    "##calculating R, 1/R, U, n, t, U_smoothed\n",
    "merch_bf['R'] = (1.096 * merch_bf['n_low']/merch_bf['n_high'])\n",
    "merch_bf['1/R']=(1/merch_bf['R'])\n",
    "merch_bf['U']=list(map(lambda x,y: max(x,y), merch_bf['R'], merch_bf['1/R']))\n",
    "merch_bf['n']=merch_bf['n_high']+merch_bf['n_low']\n",
    "merch_bf['t']=((merch_bf['n']-n_mid)/c)\n",
    "merch_bf['U_smoothed']=list(map(lambda x, y: (1+(x-1)/(1+exp(-y))), merch_bf['U'], merch_bf['t']))\n",
    "merch_bf['U_smoothed']=merch_bf['U_smoothed']"
   ]
  },
  {
   "cell_type": "code",
   "execution_count": 56,
   "id": "17806498",
   "metadata": {},
   "outputs": [],
   "source": [
    "card_bf['Cardnum']=card_bf['Cardnum'].apply(str)\n",
    "merch_bf['Merchnum'] = merch_bf['Merchnum'].apply(str)"
   ]
  },
  {
   "cell_type": "code",
   "execution_count": 57,
   "id": "5ab8ad8f",
   "metadata": {},
   "outputs": [
    {
     "data": {
      "text/html": [
       "<div>\n",
       "<style scoped>\n",
       "    .dataframe tbody tr th:only-of-type {\n",
       "        vertical-align: middle;\n",
       "    }\n",
       "\n",
       "    .dataframe tbody tr th {\n",
       "        vertical-align: top;\n",
       "    }\n",
       "\n",
       "    .dataframe thead th {\n",
       "        text-align: right;\n",
       "    }\n",
       "</style>\n",
       "<table border=\"1\" class=\"dataframe\">\n",
       "  <thead>\n",
       "    <tr style=\"text-align: right;\">\n",
       "      <th></th>\n",
       "      <th>U_smoothed</th>\n",
       "    </tr>\n",
       "    <tr>\n",
       "      <th>Cardnum</th>\n",
       "      <th></th>\n",
       "    </tr>\n",
       "  </thead>\n",
       "  <tbody>\n",
       "    <tr>\n",
       "      <th>5142253356</th>\n",
       "      <td>13.371199</td>\n",
       "    </tr>\n",
       "    <tr>\n",
       "      <th>5142299705</th>\n",
       "      <td>9.027976</td>\n",
       "    </tr>\n",
       "    <tr>\n",
       "      <th>5142197563</th>\n",
       "      <td>8.150852</td>\n",
       "    </tr>\n",
       "  </tbody>\n",
       "</table>\n",
       "</div>"
      ],
      "text/plain": [
       "            U_smoothed\n",
       "Cardnum               \n",
       "5142253356   13.371199\n",
       "5142299705    9.027976\n",
       "5142197563    8.150852"
      ]
     },
     "execution_count": 57,
     "metadata": {},
     "output_type": "execute_result"
    }
   ],
   "source": [
    "card_bf.set_index('Cardnum', inplace=True)\n",
    "card_Ustar = pd.DataFrame(card_bf['U_smoothed'])\n",
    "card_Ustar.sort_values(['U_smoothed'], ascending = False).head(3)"
   ]
  },
  {
   "cell_type": "code",
   "execution_count": 58,
   "id": "b9b6859f",
   "metadata": {},
   "outputs": [
    {
     "data": {
      "text/html": [
       "<div>\n",
       "<style scoped>\n",
       "    .dataframe tbody tr th:only-of-type {\n",
       "        vertical-align: middle;\n",
       "    }\n",
       "\n",
       "    .dataframe tbody tr th {\n",
       "        vertical-align: top;\n",
       "    }\n",
       "\n",
       "    .dataframe thead th {\n",
       "        text-align: right;\n",
       "    }\n",
       "</style>\n",
       "<table border=\"1\" class=\"dataframe\">\n",
       "  <thead>\n",
       "    <tr style=\"text-align: right;\">\n",
       "      <th></th>\n",
       "      <th>U_smoothed</th>\n",
       "    </tr>\n",
       "    <tr>\n",
       "      <th>Merchnum</th>\n",
       "      <th></th>\n",
       "    </tr>\n",
       "  </thead>\n",
       "  <tbody>\n",
       "    <tr>\n",
       "      <th>991808369338</th>\n",
       "      <td>165.145985</td>\n",
       "    </tr>\n",
       "    <tr>\n",
       "      <th>8078200641472</th>\n",
       "      <td>64.663981</td>\n",
       "    </tr>\n",
       "    <tr>\n",
       "      <th>308904389335</th>\n",
       "      <td>48.357557</td>\n",
       "    </tr>\n",
       "  </tbody>\n",
       "</table>\n",
       "</div>"
      ],
      "text/plain": [
       "               U_smoothed\n",
       "Merchnum                 \n",
       "991808369338   165.145985\n",
       "8078200641472   64.663981\n",
       "308904389335    48.357557"
      ]
     },
     "execution_count": 58,
     "metadata": {},
     "output_type": "execute_result"
    }
   ],
   "source": [
    "merch_bf.set_index('Merchnum', inplace = True)\n",
    "merch_Ustar = pd.DataFrame(merch_bf['U_smoothed'])\n",
    "merch_Ustar.sort_values(['U_smoothed'], ascending = False).head(3)"
   ]
  },
  {
   "cell_type": "code",
   "execution_count": null,
   "id": "8cb58692",
   "metadata": {},
   "outputs": [],
   "source": [
    "final = data.copy()"
   ]
  },
  {
   "cell_type": "code",
   "execution_count": 69,
   "id": "851f28b6",
   "metadata": {},
   "outputs": [],
   "source": [
    "##convert cardnum and merchnum to string. \n",
    "\n",
    "final['Cardnum']=final['Cardnum'].astype(str)\n",
    "card_Ustar.index = card_Ustar.index.astype(str)\n",
    "final['Merchnum'] = final['Merchnum'].astype(str)\n",
    "merch_Ustar.index = merch_Ustar.index.astype(str)"
   ]
  },
  {
   "cell_type": "code",
   "execution_count": 70,
   "id": "7566ad16",
   "metadata": {},
   "outputs": [],
   "source": [
    "final = final.merge(card_Ustar, how='left', left_on='Cardnum', right_on=card_Ustar.index)\n",
    "final = final.rename(columns={'U_smoothed': 'U*_cardnum'})\n",
    "final = final.merge(merch_Ustar, how='left', left_on='Merchnum', right_on=merch_Ustar.index)\n",
    "final = final.rename(columns={'U_smoothed': 'U*_merchnum'})\n",
    "# fill the na with 1\n",
    "final=final.fillna(1)"
   ]
  },
  {
   "cell_type": "code",
   "execution_count": 71,
   "id": "ea420e2e",
   "metadata": {},
   "outputs": [
    {
     "data": {
      "text/html": [
       "<div>\n",
       "<style scoped>\n",
       "    .dataframe tbody tr th:only-of-type {\n",
       "        vertical-align: middle;\n",
       "    }\n",
       "\n",
       "    .dataframe tbody tr th {\n",
       "        vertical-align: top;\n",
       "    }\n",
       "\n",
       "    .dataframe thead th {\n",
       "        text-align: right;\n",
       "    }\n",
       "</style>\n",
       "<table border=\"1\" class=\"dataframe\">\n",
       "  <thead>\n",
       "    <tr style=\"text-align: right;\">\n",
       "      <th></th>\n",
       "      <th>Recnum</th>\n",
       "      <th>Cardnum</th>\n",
       "      <th>Date</th>\n",
       "      <th>Merchnum</th>\n",
       "      <th>Merch description</th>\n",
       "      <th>Merch state</th>\n",
       "      <th>Merch zip</th>\n",
       "      <th>Transtype</th>\n",
       "      <th>Amount</th>\n",
       "      <th>Fraud</th>\n",
       "      <th>U*_cardnum</th>\n",
       "      <th>U*_merchnum</th>\n",
       "    </tr>\n",
       "  </thead>\n",
       "  <tbody>\n",
       "    <tr>\n",
       "      <th>0</th>\n",
       "      <td>1</td>\n",
       "      <td>5142190439</td>\n",
       "      <td>2010-01-01</td>\n",
       "      <td>5509006296254</td>\n",
       "      <td>FEDEX SHP 12/23/09 AB#</td>\n",
       "      <td>TN</td>\n",
       "      <td>38118.0</td>\n",
       "      <td>P</td>\n",
       "      <td>3.62</td>\n",
       "      <td>0</td>\n",
       "      <td>2.178008</td>\n",
       "      <td>1.000000</td>\n",
       "    </tr>\n",
       "    <tr>\n",
       "      <th>1</th>\n",
       "      <td>2</td>\n",
       "      <td>5142183973</td>\n",
       "      <td>2010-01-01</td>\n",
       "      <td>61003026333</td>\n",
       "      <td>SERVICE MERCHANDISE #81</td>\n",
       "      <td>MA</td>\n",
       "      <td>1803.0</td>\n",
       "      <td>P</td>\n",
       "      <td>31.42</td>\n",
       "      <td>0</td>\n",
       "      <td>1.604857</td>\n",
       "      <td>1.001244</td>\n",
       "    </tr>\n",
       "    <tr>\n",
       "      <th>2</th>\n",
       "      <td>3</td>\n",
       "      <td>5142131721</td>\n",
       "      <td>2010-01-01</td>\n",
       "      <td>4503082993600</td>\n",
       "      <td>OFFICE DEPOT #191</td>\n",
       "      <td>MD</td>\n",
       "      <td>20706.0</td>\n",
       "      <td>P</td>\n",
       "      <td>178.49</td>\n",
       "      <td>0</td>\n",
       "      <td>2.368143</td>\n",
       "      <td>1.025818</td>\n",
       "    </tr>\n",
       "    <tr>\n",
       "      <th>3</th>\n",
       "      <td>4</td>\n",
       "      <td>5142148452</td>\n",
       "      <td>2010-01-01</td>\n",
       "      <td>5509006296254</td>\n",
       "      <td>FEDEX SHP 12/28/09 AB#</td>\n",
       "      <td>TN</td>\n",
       "      <td>38118.0</td>\n",
       "      <td>P</td>\n",
       "      <td>3.62</td>\n",
       "      <td>0</td>\n",
       "      <td>1.044105</td>\n",
       "      <td>1.000000</td>\n",
       "    </tr>\n",
       "    <tr>\n",
       "      <th>4</th>\n",
       "      <td>5</td>\n",
       "      <td>5142190439</td>\n",
       "      <td>2010-01-01</td>\n",
       "      <td>5509006296254</td>\n",
       "      <td>FEDEX SHP 12/23/09 AB#</td>\n",
       "      <td>TN</td>\n",
       "      <td>38118.0</td>\n",
       "      <td>P</td>\n",
       "      <td>3.62</td>\n",
       "      <td>0</td>\n",
       "      <td>2.178008</td>\n",
       "      <td>1.000000</td>\n",
       "    </tr>\n",
       "  </tbody>\n",
       "</table>\n",
       "</div>"
      ],
      "text/plain": [
       "   Recnum     Cardnum       Date       Merchnum        Merch description  \\\n",
       "0       1  5142190439 2010-01-01  5509006296254   FEDEX SHP 12/23/09 AB#   \n",
       "1       2  5142183973 2010-01-01    61003026333  SERVICE MERCHANDISE #81   \n",
       "2       3  5142131721 2010-01-01  4503082993600        OFFICE DEPOT #191   \n",
       "3       4  5142148452 2010-01-01  5509006296254   FEDEX SHP 12/28/09 AB#   \n",
       "4       5  5142190439 2010-01-01  5509006296254   FEDEX SHP 12/23/09 AB#   \n",
       "\n",
       "  Merch state Merch zip Transtype  Amount Fraud  U*_cardnum  U*_merchnum  \n",
       "0          TN   38118.0         P    3.62     0    2.178008     1.000000  \n",
       "1          MA    1803.0         P   31.42     0    1.604857     1.001244  \n",
       "2          MD   20706.0         P  178.49     0    2.368143     1.025818  \n",
       "3          TN   38118.0         P    3.62     0    1.044105     1.000000  \n",
       "4          TN   38118.0         P    3.62     0    2.178008     1.000000  "
      ]
     },
     "execution_count": 71,
     "metadata": {},
     "output_type": "execute_result"
    }
   ],
   "source": [
    "final.head()"
   ]
  },
  {
   "cell_type": "code",
   "execution_count": 73,
   "id": "9adf2f8d",
   "metadata": {},
   "outputs": [],
   "source": [
    "final.to_csv('cleaned_data_final.csv', index=False)"
   ]
  },
  {
   "cell_type": "code",
   "execution_count": null,
   "id": "5633edee",
   "metadata": {},
   "outputs": [],
   "source": []
  },
  {
   "cell_type": "code",
   "execution_count": null,
   "id": "bae3152c",
   "metadata": {},
   "outputs": [],
   "source": []
  }
 ],
 "metadata": {
  "kernelspec": {
   "display_name": "Python 3 (ipykernel)",
   "language": "python",
   "name": "python3"
  },
  "language_info": {
   "codemirror_mode": {
    "name": "ipython",
    "version": 3
   },
   "file_extension": ".py",
   "mimetype": "text/x-python",
   "name": "python",
   "nbconvert_exporter": "python",
   "pygments_lexer": "ipython3",
   "version": "3.9.13"
  }
 },
 "nbformat": 4,
 "nbformat_minor": 5
}
