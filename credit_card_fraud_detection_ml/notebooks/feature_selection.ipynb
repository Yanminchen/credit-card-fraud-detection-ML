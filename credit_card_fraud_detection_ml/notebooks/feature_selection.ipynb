
  {
   "cell_type": "code",
   "execution_count": 1,
   "metadata": {
    "scrolled": false
   },
   "outputs": [
    {
     "name": "stderr",
     "output_type": "stream",
     "text": [
      "/opt/anaconda3/lib/python3.8/site-packages/dask/dataframe/utils.py:367: FutureWarning: pandas.Int64Index is deprecated and will be removed from pandas in a future version. Use pandas.Index with the appropriate dtype instead.\n",
      "  _numeric_index_types = (pd.Int64Index, pd.Float64Index, pd.UInt64Index)\n",
      "/opt/anaconda3/lib/python3.8/site-packages/dask/dataframe/utils.py:367: FutureWarning: pandas.Float64Index is deprecated and will be removed from pandas in a future version. Use pandas.Index with the appropriate dtype instead.\n",
      "  _numeric_index_types = (pd.Int64Index, pd.Float64Index, pd.UInt64Index)\n",
      "/opt/anaconda3/lib/python3.8/site-packages/dask/dataframe/utils.py:367: FutureWarning: pandas.UInt64Index is deprecated and will be removed from pandas in a future version. Use pandas.Index with the appropriate dtype instead.\n",
      "  _numeric_index_types = (pd.Int64Index, pd.Float64Index, pd.UInt64Index)\n"
     ]
    }
   ],
   "source": [
    "import pandas as pd\n",
    "import numpy as np\n",
    "import scipy.stats as sps\n",
    "import matplotlib.pyplot as plt\n",
    "import datetime as dt\n",
    "import gc\n",
    "from sklearn.ensemble import RandomForestClassifier\n",
    "from mlxtend.feature_selection import SequentialFeatureSelector as SFS\n",
    "from lightgbm import LGBMClassifier\n",
    "%matplotlib inline\n",
    "start_time = dt.datetime.now()"
   ]
  },
  {
   "cell_type": "code",
   "execution_count": 2,
   "metadata": {},
   "outputs": [],
   "source": [
    "# set some parameters\n",
    "num_files = 1\n",
    "# I recommend set num_filter to be about 10 to 20% of the original # variables\n",
    "num_filter = 350\n",
    "# I recommend set num_wrapper to be about 50, then look for a saturation of the model performance as variables are added\n",
    "# Then you can run it again with num_wrapper just a bit above this saturation point, not more than about twice this saturation number\n",
    "num_wrapper = 21\n",
    "balance = 0\n",
    "detect_rate = .03\n",
    "index_name = 'record'\n",
    "y_name = 'fraud_label'\n",
    "good_label = 0\n",
    "bad_label = 1"
   ]
  },
  {
   "cell_type": "markdown",
   "metadata": {},
   "source": [
    "## Run a filter on all the files"
   ]
  },
  {
   "cell_type": "code",
   "execution_count": 3,
   "metadata": {},
   "outputs": [
    {
     "name": "stdout",
     "output_type": "stream",
     "text": [
      "********** working on vars_final.csv size is (1000000, 21)\n",
      "vars_final.csv                                           variable  filter score\n",
      "19                                     fraud_label      1.000000\n",
      "5                                address_day_since      0.334140\n",
      "0                            fulladdress_day_since      0.333269\n",
      "17                                address_count_14      0.322436\n",
      "2       address_unique_count_for_name_homephone_60      0.292438\n",
      "3                            address_count_0_by_30      0.291922\n",
      "6   address_unique_count_for_homephone_name_dob_60      0.291410\n",
      "7                        fulladdress_count_0_by_30      0.290722\n",
      "4             address_unique_count_for_ssn_zip5_60      0.289724\n",
      "8             address_unique_count_for_ssn_name_60      0.289679\n",
      "9        address_unique_count_for_ssn_homephone_60      0.289166\n",
      "10       address_unique_count_for_ssn_firstname_60      0.288127\n",
      "11        address_unique_count_for_ssn_name_dob_60      0.287645\n",
      "12       address_unique_count_for_dob_homephone_60      0.287556\n",
      "13        address_unique_count_for_ssn_lastname_60      0.287444\n",
      "14                 address_unique_count_for_ssn_60      0.285913\n",
      "16  address_unique_count_for_homephone_name_dob_30      0.283989\n",
      "15        address_unique_count_for_ssn_name_dob_14      0.276894\n",
      "18    fulladdress_unique_count_for_dob_homephone_3      0.264359\n",
      "1                                name_dob_count_30      0.227497\n",
      "CPU times: user 3.49 s, sys: 663 ms, total: 4.15 s\n",
      "Wall time: 4.17 s\n"
     ]
    }
   ],
   "source": [
    "%%time\n",
    "filter_score_df_list = []\n",
    "for i in range(num_files):\n",
    "#     file_name = \"vars\"+str(i+1)+'.csv'\n",
    "    file_name = 'vars_final.csv'\n",
    "    df = pd.read_csv(file_name)\n",
    "    print(\"********** working on\",file_name,\"size is\",df.shape)\n",
    "    df = df.set_index(index_name) \n",
    "    df = df[df.index <= 833507] # remove the last two months as the out-of-time data (OOT)\n",
    "    df = df[df.index >= 38511] # remove the first 2 weeks of records since their variables aren't well formed\n",
    "    df['RANDOM'] = np.random.ranf(len(df)) # add a random number variable to make sure it doesn't come up as important\n",
    "    goods = df[df[y_name] == good_label]\n",
    "    bads = df[df[y_name] == bad_label]\n",
    "    del df # don't need this file anymore\n",
    "    num_goods = len(goods)\n",
    "    num_bads = len(bads)\n",
    "    num_vars = len(bads.columns)-2\n",
    "    if(balance != 0):\n",
    "        if(i == 0):\n",
    "            num_goods_desired = int(min(num_goods,num_bads*balance))\n",
    "            goods = goods.sample(n=num_goods_desired,random_state=1)\n",
    "            goods_keep = list(goods.index)\n",
    "            goods_keep.sort()\n",
    "    \n",
    "        if(i > 0):\n",
    "            goods = goods.loc[goods_keep] \n",
    "            \n",
    "    df_sampled = pd.concat([goods,bads])\n",
    "    df_sampled.sort_index(inplace=True)\n",
    "    filter_score = pd.DataFrame(np.zeros((num_vars+1,2)))\n",
    "    filter_score.columns = ['variable','filter score']   \n",
    "    j = 0\n",
    "    for column in df_sampled:\n",
    "        filter_score.loc[j,'variable'] = column\n",
    "        filter_score.loc[j,'filter score'] = sps.ks_2samp(goods[column],bads[column])[0]\n",
    "        j = j+1\n",
    "        if j%100 == 0:\n",
    "            print(j)\n",
    "\n",
    "    filter_score.sort_values(by=['filter score'], ascending=False, inplace=True)\n",
    "    vars_keep = list(filter_score['variable'][1:num_filter+1]) \n",
    "    print(file_name,filter_score.head(20))\n",
    "    if(i == 0): # if first time through need to initialize some stuff\n",
    "        Y = pd.DataFrame(df_sampled[y_name], index=df_sampled.index)\n",
    "        df_top = df_sampled.filter(vars_keep, axis=1)\n",
    "            \n",
    "    if(i > 0): # if more than one variable file we use this loop\n",
    "        data_new_top = df_sampled.filter(vars_keep, axis=1)\n",
    "        df_top = pd.concat([df_top,data_new_top], axis=1)\n",
    "\n",
    "    filter_score_df_list.append(filter_score)\n",
    "    \n",
    "    del goods # delete these before starting the next file, if any\n",
    "    del bads\n",
    "    gc.collect()\n",
    "filter_score = pd.concat(filter_score_df_list)"
   ]
  },
  {
   "cell_type": "code",
   "execution_count": 4,
   "metadata": {},
   "outputs": [],
   "source": [
    "filter_score.sort_values(by=['filter score'], ascending=False, inplace=True)\n",
    "filter_score.reset_index(drop=True,inplace=True)"
   ]
  },
  {
   "cell_type": "code",
   "execution_count": 5,
   "metadata": {},
   "outputs": [
    {
     "data": {
      "text/html": [
       "<div>\n",
       "<style scoped>\n",
       "    .dataframe tbody tr th:only-of-type {\n",
       "        vertical-align: middle;\n",
       "    }\n",
       "\n",
       "    .dataframe tbody tr th {\n",
       "        vertical-align: top;\n",
       "    }\n",
       "\n",
       "    .dataframe thead th {\n",
       "        text-align: right;\n",
       "    }\n",
       "</style>\n",
       "<table border=\"1\" class=\"dataframe\">\n",
       "  <thead>\n",
       "    <tr style=\"text-align: right;\">\n",
       "      <th></th>\n",
       "      <th>variable</th>\n",
       "      <th>filter score</th>\n",
       "    </tr>\n",
       "  </thead>\n",
       "  <tbody>\n",
       "    <tr>\n",
       "      <th>0</th>\n",
       "      <td>fraud_label</td>\n",
       "      <td>1.000000</td>\n",
       "    </tr>\n",
       "    <tr>\n",
       "      <th>1</th>\n",
       "      <td>address_day_since</td>\n",
       "      <td>0.334140</td>\n",
       "    </tr>\n",
       "    <tr>\n",
       "      <th>2</th>\n",
       "      <td>fulladdress_day_since</td>\n",
       "      <td>0.333269</td>\n",
       "    </tr>\n",
       "    <tr>\n",
       "      <th>3</th>\n",
       "      <td>address_count_14</td>\n",
       "      <td>0.322436</td>\n",
       "    </tr>\n",
       "    <tr>\n",
       "      <th>4</th>\n",
       "      <td>address_unique_count_for_name_homephone_60</td>\n",
       "      <td>0.292438</td>\n",
       "    </tr>\n",
       "    <tr>\n",
       "      <th>5</th>\n",
       "      <td>address_count_0_by_30</td>\n",
       "      <td>0.291922</td>\n",
       "    </tr>\n",
       "    <tr>\n",
       "      <th>6</th>\n",
       "      <td>address_unique_count_for_homephone_name_dob_60</td>\n",
       "      <td>0.291410</td>\n",
       "    </tr>\n",
       "    <tr>\n",
       "      <th>7</th>\n",
       "      <td>fulladdress_count_0_by_30</td>\n",
       "      <td>0.290722</td>\n",
       "    </tr>\n",
       "    <tr>\n",
       "      <th>8</th>\n",
       "      <td>address_unique_count_for_ssn_zip5_60</td>\n",
       "      <td>0.289724</td>\n",
       "    </tr>\n",
       "    <tr>\n",
       "      <th>9</th>\n",
       "      <td>address_unique_count_for_ssn_name_60</td>\n",
       "      <td>0.289679</td>\n",
       "    </tr>\n",
       "    <tr>\n",
       "      <th>10</th>\n",
       "      <td>address_unique_count_for_ssn_homephone_60</td>\n",
       "      <td>0.289166</td>\n",
       "    </tr>\n",
       "    <tr>\n",
       "      <th>11</th>\n",
       "      <td>address_unique_count_for_ssn_firstname_60</td>\n",
       "      <td>0.288127</td>\n",
       "    </tr>\n",
       "    <tr>\n",
       "      <th>12</th>\n",
       "      <td>address_unique_count_for_ssn_name_dob_60</td>\n",
       "      <td>0.287645</td>\n",
       "    </tr>\n",
       "    <tr>\n",
       "      <th>13</th>\n",
       "      <td>address_unique_count_for_dob_homephone_60</td>\n",
       "      <td>0.287556</td>\n",
       "    </tr>\n",
       "    <tr>\n",
       "      <th>14</th>\n",
       "      <td>address_unique_count_for_ssn_lastname_60</td>\n",
       "      <td>0.287444</td>\n",
       "    </tr>\n",
       "    <tr>\n",
       "      <th>15</th>\n",
       "      <td>address_unique_count_for_ssn_60</td>\n",
       "      <td>0.285913</td>\n",
       "    </tr>\n",
       "    <tr>\n",
       "      <th>16</th>\n",
       "      <td>address_unique_count_for_homephone_name_dob_30</td>\n",
       "      <td>0.283989</td>\n",
       "    </tr>\n",
       "    <tr>\n",
       "      <th>17</th>\n",
       "      <td>address_unique_count_for_ssn_name_dob_14</td>\n",
       "      <td>0.276894</td>\n",
       "    </tr>\n",
       "    <tr>\n",
       "      <th>18</th>\n",
       "      <td>fulladdress_unique_count_for_dob_homephone_3</td>\n",
       "      <td>0.264359</td>\n",
       "    </tr>\n",
       "    <tr>\n",
       "      <th>19</th>\n",
       "      <td>name_dob_count_30</td>\n",
       "      <td>0.227497</td>\n",
       "    </tr>\n",
       "    <tr>\n",
       "      <th>20</th>\n",
       "      <td>RANDOM</td>\n",
       "      <td>0.007976</td>\n",
       "    </tr>\n",
       "  </tbody>\n",
       "</table>\n",
       "</div>"
      ],
      "text/plain": [
       "                                          variable  filter score\n",
       "0                                      fraud_label      1.000000\n",
       "1                                address_day_since      0.334140\n",
       "2                            fulladdress_day_since      0.333269\n",
       "3                                 address_count_14      0.322436\n",
       "4       address_unique_count_for_name_homephone_60      0.292438\n",
       "5                            address_count_0_by_30      0.291922\n",
       "6   address_unique_count_for_homephone_name_dob_60      0.291410\n",
       "7                        fulladdress_count_0_by_30      0.290722\n",
       "8             address_unique_count_for_ssn_zip5_60      0.289724\n",
       "9             address_unique_count_for_ssn_name_60      0.289679\n",
       "10       address_unique_count_for_ssn_homephone_60      0.289166\n",
       "11       address_unique_count_for_ssn_firstname_60      0.288127\n",
       "12        address_unique_count_for_ssn_name_dob_60      0.287645\n",
       "13       address_unique_count_for_dob_homephone_60      0.287556\n",
       "14        address_unique_count_for_ssn_lastname_60      0.287444\n",
       "15                 address_unique_count_for_ssn_60      0.285913\n",
       "16  address_unique_count_for_homephone_name_dob_30      0.283989\n",
       "17        address_unique_count_for_ssn_name_dob_14      0.276894\n",
       "18    fulladdress_unique_count_for_dob_homephone_3      0.264359\n",
       "19                               name_dob_count_30      0.227497\n",
       "20                                          RANDOM      0.007976"
      ]
     },
     "execution_count": 5,
     "metadata": {},
     "output_type": "execute_result"
    }
   ],
   "source": [
    "filter_score.head(30)"
   ]
  },
  {
   "cell_type": "code",
   "execution_count": 6,
   "metadata": {},
   "outputs": [
    {
     "data": {
      "text/html": [
       "<div>\n",
       "<style scoped>\n",
       "    .dataframe tbody tr th:only-of-type {\n",
       "        vertical-align: middle;\n",
       "    }\n",
       "\n",
       "    .dataframe tbody tr th {\n",
       "        vertical-align: top;\n",
       "    }\n",
       "\n",
       "    .dataframe thead th {\n",
       "        text-align: right;\n",
       "    }\n",
       "</style>\n",
       "<table border=\"1\" class=\"dataframe\">\n",
       "  <thead>\n",
       "    <tr style=\"text-align: right;\">\n",
       "      <th></th>\n",
       "      <th>variable</th>\n",
       "      <th>filter score</th>\n",
       "    </tr>\n",
       "  </thead>\n",
       "  <tbody>\n",
       "    <tr>\n",
       "      <th>11</th>\n",
       "      <td>address_unique_count_for_ssn_firstname_60</td>\n",
       "      <td>0.288127</td>\n",
       "    </tr>\n",
       "    <tr>\n",
       "      <th>12</th>\n",
       "      <td>address_unique_count_for_ssn_name_dob_60</td>\n",
       "      <td>0.287645</td>\n",
       "    </tr>\n",
       "    <tr>\n",
       "      <th>13</th>\n",
       "      <td>address_unique_count_for_dob_homephone_60</td>\n",
       "      <td>0.287556</td>\n",
       "    </tr>\n",
       "    <tr>\n",
       "      <th>14</th>\n",
       "      <td>address_unique_count_for_ssn_lastname_60</td>\n",
       "      <td>0.287444</td>\n",
       "    </tr>\n",
       "    <tr>\n",
       "      <th>15</th>\n",
       "      <td>address_unique_count_for_ssn_60</td>\n",
       "      <td>0.285913</td>\n",
       "    </tr>\n",
       "    <tr>\n",
       "      <th>16</th>\n",
       "      <td>address_unique_count_for_homephone_name_dob_30</td>\n",
       "      <td>0.283989</td>\n",
       "    </tr>\n",
       "    <tr>\n",
       "      <th>17</th>\n",
       "      <td>address_unique_count_for_ssn_name_dob_14</td>\n",
       "      <td>0.276894</td>\n",
       "    </tr>\n",
       "    <tr>\n",
       "      <th>18</th>\n",
       "      <td>fulladdress_unique_count_for_dob_homephone_3</td>\n",
       "      <td>0.264359</td>\n",
       "    </tr>\n",
       "    <tr>\n",
       "      <th>19</th>\n",
       "      <td>name_dob_count_30</td>\n",
       "      <td>0.227497</td>\n",
       "    </tr>\n",
       "    <tr>\n",
       "      <th>20</th>\n",
       "      <td>RANDOM</td>\n",
       "      <td>0.007976</td>\n",
       "    </tr>\n",
       "  </tbody>\n",
       "</table>\n",
       "</div>"
      ],
      "text/plain": [
       "                                          variable  filter score\n",
       "11       address_unique_count_for_ssn_firstname_60      0.288127\n",
       "12        address_unique_count_for_ssn_name_dob_60      0.287645\n",
       "13       address_unique_count_for_dob_homephone_60      0.287556\n",
       "14        address_unique_count_for_ssn_lastname_60      0.287444\n",
       "15                 address_unique_count_for_ssn_60      0.285913\n",
       "16  address_unique_count_for_homephone_name_dob_30      0.283989\n",
       "17        address_unique_count_for_ssn_name_dob_14      0.276894\n",
       "18    fulladdress_unique_count_for_dob_homephone_3      0.264359\n",
       "19                               name_dob_count_30      0.227497\n",
       "20                                          RANDOM      0.007976"
      ]
     },
     "execution_count": 6,
     "metadata": {},
     "output_type": "execute_result"
    }
   ],
   "source": [
    "filter_score.tail(10)"
   ]
  },
  {
   "cell_type": "code",
   "execution_count": 7,
   "metadata": {},
   "outputs": [
    {
     "data": {
      "text/plain": [
       "(21, 2)"
      ]
     },
     "execution_count": 7,
     "metadata": {},
     "output_type": "execute_result"
    }
   ],
   "source": [
    "filter_score.shape"
   ]
  },
  {
   "cell_type": "code",
   "execution_count": 8,
   "metadata": {},
   "outputs": [
    {
     "name": "stdout",
     "output_type": "stream",
     "text": [
      "0  vars_keep: ['address_day_since', 'fulladdress_day_since', 'address_count_14', 'address_unique_count_for_name_homephone_60', 'address_count_0_by_30', 'address_unique_count_for_homephone_name_dob_60', 'fulladdress_count_0_by_30', 'address_unique_count_for_ssn_zip5_60', 'address_unique_count_for_ssn_name_60', 'address_unique_count_for_ssn_homephone_60', 'address_unique_count_for_ssn_firstname_60', 'address_unique_count_for_ssn_name_dob_60', 'address_unique_count_for_dob_homephone_60', 'address_unique_count_for_ssn_lastname_60', 'address_unique_count_for_ssn_60', 'address_unique_count_for_homephone_name_dob_30', 'address_unique_count_for_ssn_name_dob_14', 'fulladdress_unique_count_for_dob_homephone_3', 'name_dob_count_30', 'RANDOM']\n"
     ]
    }
   ],
   "source": [
    "filter_score.head(80).to_csv('filter_top.csv')\n",
    "vars_keep = list(filter_score['variable'][num_files:num_filter+3])\n",
    "print(i,' vars_keep:',vars_keep)"
   ]
  },
  {
   "cell_type": "code",
   "execution_count": 9,
   "metadata": {
    "scrolled": false
   },
   "outputs": [
    {
     "data": {
      "text/html": [
       "<div>\n",
       "<style scoped>\n",
       "    .dataframe tbody tr th:only-of-type {\n",
       "        vertical-align: middle;\n",
       "    }\n",
       "\n",
       "    .dataframe tbody tr th {\n",
       "        vertical-align: top;\n",
       "    }\n",
       "\n",
       "    .dataframe thead th {\n",
       "        text-align: right;\n",
       "    }\n",
       "</style>\n",
       "<table border=\"1\" class=\"dataframe\">\n",
       "  <thead>\n",
       "    <tr style=\"text-align: right;\">\n",
       "      <th></th>\n",
       "      <th>address_day_since</th>\n",
       "      <th>fulladdress_day_since</th>\n",
       "      <th>address_count_14</th>\n",
       "      <th>address_unique_count_for_name_homephone_60</th>\n",
       "      <th>address_count_0_by_30</th>\n",
       "      <th>address_unique_count_for_homephone_name_dob_60</th>\n",
       "      <th>fulladdress_count_0_by_30</th>\n",
       "      <th>address_unique_count_for_ssn_zip5_60</th>\n",
       "      <th>address_unique_count_for_ssn_name_60</th>\n",
       "      <th>address_unique_count_for_ssn_homephone_60</th>\n",
       "      <th>address_unique_count_for_ssn_firstname_60</th>\n",
       "      <th>address_unique_count_for_ssn_name_dob_60</th>\n",
       "      <th>address_unique_count_for_dob_homephone_60</th>\n",
       "      <th>address_unique_count_for_ssn_lastname_60</th>\n",
       "      <th>address_unique_count_for_ssn_60</th>\n",
       "      <th>address_unique_count_for_homephone_name_dob_30</th>\n",
       "      <th>address_unique_count_for_ssn_name_dob_14</th>\n",
       "      <th>fulladdress_unique_count_for_dob_homephone_3</th>\n",
       "      <th>name_dob_count_30</th>\n",
       "      <th>RANDOM</th>\n",
       "    </tr>\n",
       "    <tr>\n",
       "      <th>record</th>\n",
       "      <th></th>\n",
       "      <th></th>\n",
       "      <th></th>\n",
       "      <th></th>\n",
       "      <th></th>\n",
       "      <th></th>\n",
       "      <th></th>\n",
       "      <th></th>\n",
       "      <th></th>\n",
       "      <th></th>\n",
       "      <th></th>\n",
       "      <th></th>\n",
       "      <th></th>\n",
       "      <th></th>\n",
       "      <th></th>\n",
       "      <th></th>\n",
       "      <th></th>\n",
       "      <th></th>\n",
       "      <th></th>\n",
       "      <th></th>\n",
       "    </tr>\n",
       "  </thead>\n",
       "  <tbody>\n",
       "    <tr>\n",
       "      <th>38511.0</th>\n",
       "      <td>0.0</td>\n",
       "      <td>0.0</td>\n",
       "      <td>12.0</td>\n",
       "      <td>12.0</td>\n",
       "      <td>5.0</td>\n",
       "      <td>12.0</td>\n",
       "      <td>5.0</td>\n",
       "      <td>12.0</td>\n",
       "      <td>12.0</td>\n",
       "      <td>12.0</td>\n",
       "      <td>12.0</td>\n",
       "      <td>12.0</td>\n",
       "      <td>12.0</td>\n",
       "      <td>12.0</td>\n",
       "      <td>12.0</td>\n",
       "      <td>12.0</td>\n",
       "      <td>12.0</td>\n",
       "      <td>4.0</td>\n",
       "      <td>1.0</td>\n",
       "      <td>0.328491</td>\n",
       "    </tr>\n",
       "    <tr>\n",
       "      <th>38512.0</th>\n",
       "      <td>365.0</td>\n",
       "      <td>365.0</td>\n",
       "      <td>1.0</td>\n",
       "      <td>1.0</td>\n",
       "      <td>30.0</td>\n",
       "      <td>1.0</td>\n",
       "      <td>30.0</td>\n",
       "      <td>1.0</td>\n",
       "      <td>1.0</td>\n",
       "      <td>1.0</td>\n",
       "      <td>1.0</td>\n",
       "      <td>1.0</td>\n",
       "      <td>1.0</td>\n",
       "      <td>1.0</td>\n",
       "      <td>1.0</td>\n",
       "      <td>1.0</td>\n",
       "      <td>1.0</td>\n",
       "      <td>1.0</td>\n",
       "      <td>1.0</td>\n",
       "      <td>0.297860</td>\n",
       "    </tr>\n",
       "    <tr>\n",
       "      <th>38513.0</th>\n",
       "      <td>365.0</td>\n",
       "      <td>365.0</td>\n",
       "      <td>1.0</td>\n",
       "      <td>1.0</td>\n",
       "      <td>30.0</td>\n",
       "      <td>1.0</td>\n",
       "      <td>30.0</td>\n",
       "      <td>1.0</td>\n",
       "      <td>1.0</td>\n",
       "      <td>1.0</td>\n",
       "      <td>1.0</td>\n",
       "      <td>1.0</td>\n",
       "      <td>1.0</td>\n",
       "      <td>1.0</td>\n",
       "      <td>1.0</td>\n",
       "      <td>1.0</td>\n",
       "      <td>1.0</td>\n",
       "      <td>1.0</td>\n",
       "      <td>1.0</td>\n",
       "      <td>0.739432</td>\n",
       "    </tr>\n",
       "    <tr>\n",
       "      <th>38514.0</th>\n",
       "      <td>365.0</td>\n",
       "      <td>365.0</td>\n",
       "      <td>1.0</td>\n",
       "      <td>1.0</td>\n",
       "      <td>30.0</td>\n",
       "      <td>1.0</td>\n",
       "      <td>30.0</td>\n",
       "      <td>1.0</td>\n",
       "      <td>1.0</td>\n",
       "      <td>1.0</td>\n",
       "      <td>1.0</td>\n",
       "      <td>1.0</td>\n",
       "      <td>1.0</td>\n",
       "      <td>1.0</td>\n",
       "      <td>1.0</td>\n",
       "      <td>1.0</td>\n",
       "      <td>1.0</td>\n",
       "      <td>1.0</td>\n",
       "      <td>1.0</td>\n",
       "      <td>0.083530</td>\n",
       "    </tr>\n",
       "    <tr>\n",
       "      <th>38515.0</th>\n",
       "      <td>365.0</td>\n",
       "      <td>365.0</td>\n",
       "      <td>1.0</td>\n",
       "      <td>1.0</td>\n",
       "      <td>30.0</td>\n",
       "      <td>1.0</td>\n",
       "      <td>30.0</td>\n",
       "      <td>1.0</td>\n",
       "      <td>1.0</td>\n",
       "      <td>1.0</td>\n",
       "      <td>1.0</td>\n",
       "      <td>1.0</td>\n",
       "      <td>1.0</td>\n",
       "      <td>1.0</td>\n",
       "      <td>1.0</td>\n",
       "      <td>1.0</td>\n",
       "      <td>1.0</td>\n",
       "      <td>1.0</td>\n",
       "      <td>1.0</td>\n",
       "      <td>0.420396</td>\n",
       "    </tr>\n",
       "  </tbody>\n",
       "</table>\n",
       "</div>"
      ],
      "text/plain": [
       "         address_day_since  fulladdress_day_since  address_count_14  \\\n",
       "record                                                                \n",
       "38511.0                0.0                    0.0              12.0   \n",
       "38512.0              365.0                  365.0               1.0   \n",
       "38513.0              365.0                  365.0               1.0   \n",
       "38514.0              365.0                  365.0               1.0   \n",
       "38515.0              365.0                  365.0               1.0   \n",
       "\n",
       "         address_unique_count_for_name_homephone_60  address_count_0_by_30  \\\n",
       "record                                                                       \n",
       "38511.0                                        12.0                    5.0   \n",
       "38512.0                                         1.0                   30.0   \n",
       "38513.0                                         1.0                   30.0   \n",
       "38514.0                                         1.0                   30.0   \n",
       "38515.0                                         1.0                   30.0   \n",
       "\n",
       "         address_unique_count_for_homephone_name_dob_60  \\\n",
       "record                                                    \n",
       "38511.0                                            12.0   \n",
       "38512.0                                             1.0   \n",
       "38513.0                                             1.0   \n",
       "38514.0                                             1.0   \n",
       "38515.0                                             1.0   \n",
       "\n",
       "         fulladdress_count_0_by_30  address_unique_count_for_ssn_zip5_60  \\\n",
       "record                                                                     \n",
       "38511.0                        5.0                                  12.0   \n",
       "38512.0                       30.0                                   1.0   \n",
       "38513.0                       30.0                                   1.0   \n",
       "38514.0                       30.0                                   1.0   \n",
       "38515.0                       30.0                                   1.0   \n",
       "\n",
       "         address_unique_count_for_ssn_name_60  \\\n",
       "record                                          \n",
       "38511.0                                  12.0   \n",
       "38512.0                                   1.0   \n",
       "38513.0                                   1.0   \n",
       "38514.0                                   1.0   \n",
       "38515.0                                   1.0   \n",
       "\n",
       "         address_unique_count_for_ssn_homephone_60  \\\n",
       "record                                               \n",
       "38511.0                                       12.0   \n",
       "38512.0                                        1.0   \n",
       "38513.0                                        1.0   \n",
       "38514.0                                        1.0   \n",
       "38515.0                                        1.0   \n",
       "\n",
       "         address_unique_count_for_ssn_firstname_60  \\\n",
       "record                                               \n",
       "38511.0                                       12.0   \n",
       "38512.0                                        1.0   \n",
       "38513.0                                        1.0   \n",
       "38514.0                                        1.0   \n",
       "38515.0                                        1.0   \n",
       "\n",
       "         address_unique_count_for_ssn_name_dob_60  \\\n",
       "record                                              \n",
       "38511.0                                      12.0   \n",
       "38512.0                                       1.0   \n",
       "38513.0                                       1.0   \n",
       "38514.0                                       1.0   \n",
       "38515.0                                       1.0   \n",
       "\n",
       "         address_unique_count_for_dob_homephone_60  \\\n",
       "record                                               \n",
       "38511.0                                       12.0   \n",
       "38512.0                                        1.0   \n",
       "38513.0                                        1.0   \n",
       "38514.0                                        1.0   \n",
       "38515.0                                        1.0   \n",
       "\n",
       "         address_unique_count_for_ssn_lastname_60  \\\n",
       "record                                              \n",
       "38511.0                                      12.0   \n",
       "38512.0                                       1.0   \n",
       "38513.0                                       1.0   \n",
       "38514.0                                       1.0   \n",
       "38515.0                                       1.0   \n",
       "\n",
       "         address_unique_count_for_ssn_60  \\\n",
       "record                                     \n",
       "38511.0                             12.0   \n",
       "38512.0                              1.0   \n",
       "38513.0                              1.0   \n",
       "38514.0                              1.0   \n",
       "38515.0                              1.0   \n",
       "\n",
       "         address_unique_count_for_homephone_name_dob_30  \\\n",
       "record                                                    \n",
       "38511.0                                            12.0   \n",
       "38512.0                                             1.0   \n",
       "38513.0                                             1.0   \n",
       "38514.0                                             1.0   \n",
       "38515.0                                             1.0   \n",
       "\n",
       "         address_unique_count_for_ssn_name_dob_14  \\\n",
       "record                                              \n",
       "38511.0                                      12.0   \n",
       "38512.0                                       1.0   \n",
       "38513.0                                       1.0   \n",
       "38514.0                                       1.0   \n",
       "38515.0                                       1.0   \n",
       "\n",
       "         fulladdress_unique_count_for_dob_homephone_3  name_dob_count_30  \\\n",
       "record                                                                     \n",
       "38511.0                                           4.0                1.0   \n",
       "38512.0                                           1.0                1.0   \n",
       "38513.0                                           1.0                1.0   \n",
       "38514.0                                           1.0                1.0   \n",
       "38515.0                                           1.0                1.0   \n",
       "\n",
       "           RANDOM  \n",
       "record             \n",
       "38511.0  0.328491  \n",
       "38512.0  0.297860  \n",
       "38513.0  0.739432  \n",
       "38514.0  0.083530  \n",
       "38515.0  0.420396  "
      ]
     },
     "execution_count": 9,
     "metadata": {},
     "output_type": "execute_result"
    }
   ],
   "source": [
    "vars_keep_df = pd.DataFrame({'col':vars_keep})\n",
    "vars_keep_df.to_csv('vars_keep_filter.csv',index=False)\n",
    "df_keep = df_top.filter(vars_keep, axis=1)\n",
    "df_keep.head()"
   ]
  },
  {
   "cell_type": "code",
   "execution_count": 10,
   "metadata": {},
   "outputs": [
    {
     "data": {
      "text/plain": [
       "(794997, 20)"
      ]
     },
     "execution_count": 10,
     "metadata": {},
     "output_type": "execute_result"
    }
   ],
   "source": [
    "df_keep.shape"
   ]
  },
  {
   "cell_type": "code",
   "execution_count": 11,
   "metadata": {},
   "outputs": [
    {
     "data": {
      "text/html": [
       "<div>\n",
       "<style scoped>\n",
       "    .dataframe tbody tr th:only-of-type {\n",
       "        vertical-align: middle;\n",
       "    }\n",
       "\n",
       "    .dataframe tbody tr th {\n",
       "        vertical-align: top;\n",
       "    }\n",
       "\n",
       "    .dataframe thead th {\n",
       "        text-align: right;\n",
       "    }\n",
       "</style>\n",
       "<table border=\"1\" class=\"dataframe\">\n",
       "  <thead>\n",
       "    <tr style=\"text-align: right;\">\n",
       "      <th></th>\n",
       "      <th>fraud_label</th>\n",
       "    </tr>\n",
       "    <tr>\n",
       "      <th>record</th>\n",
       "      <th></th>\n",
       "    </tr>\n",
       "  </thead>\n",
       "  <tbody>\n",
       "    <tr>\n",
       "      <th>38511.0</th>\n",
       "      <td>1.0</td>\n",
       "    </tr>\n",
       "    <tr>\n",
       "      <th>38512.0</th>\n",
       "      <td>0.0</td>\n",
       "    </tr>\n",
       "    <tr>\n",
       "      <th>38513.0</th>\n",
       "      <td>0.0</td>\n",
       "    </tr>\n",
       "    <tr>\n",
       "      <th>38514.0</th>\n",
       "      <td>0.0</td>\n",
       "    </tr>\n",
       "    <tr>\n",
       "      <th>38515.0</th>\n",
       "      <td>0.0</td>\n",
       "    </tr>\n",
       "  </tbody>\n",
       "</table>\n",
       "</div>"
      ],
      "text/plain": [
       "         fraud_label\n",
       "record              \n",
       "38511.0          1.0\n",
       "38512.0          0.0\n",
       "38513.0          0.0\n",
       "38514.0          0.0\n",
       "38515.0          0.0"
      ]
     },
     "execution_count": 11,
     "metadata": {},
     "output_type": "execute_result"
    }
   ],
   "source": [
    "Y.head()"
   ]
  },
  {
   "cell_type": "code",
   "execution_count": 12,
   "metadata": {},
   "outputs": [],
   "source": [
    "Y = Y.values\n",
    "Y_save = Y.copy()"
   ]
  },
  {
   "cell_type": "code",
   "execution_count": 13,
   "metadata": {},
   "outputs": [
    {
     "name": "stdout",
     "output_type": "stream",
     "text": [
      "[[1.]\n",
      " [0.]\n",
      " [0.]\n",
      " ...\n",
      " [0.]\n",
      " [0.]\n",
      " [0.]]\n"
     ]
    }
   ],
   "source": [
    "# Y = np.array(Y)\n",
    "X = df_keep\n",
    "print(Y)"
   ]
  },
  {
   "cell_type": "code",
   "execution_count": 14,
   "metadata": {},
   "outputs": [
    {
     "name": "stdout",
     "output_type": "stream",
     "text": [
      "time to here: 0:00:04.416671\n"
     ]
    }
   ],
   "source": [
    "print('time to here:', dt.datetime.now() - start_time)"
   ]
  },
  {
   "cell_type": "code",
   "execution_count": 15,
   "metadata": {},
   "outputs": [
    {
     "name": "stdout",
     "output_type": "stream",
     "text": [
      "(794997, 20) (794997, 1)\n"
     ]
    }
   ],
   "source": [
    "print(X.shape,Y.shape)"
   ]
  },
  {
   "cell_type": "code",
   "execution_count": 16,
   "metadata": {},
   "outputs": [
    {
     "name": "stdout",
     "output_type": "stream",
     "text": [
      "<class 'pandas.core.frame.DataFrame'> <class 'numpy.ndarray'>\n"
     ]
    }
   ],
   "source": [
    "print(type(X),type(Y))"
   ]
  },
  {
   "cell_type": "code",
   "execution_count": 17,
   "metadata": {},
   "outputs": [],
   "source": [
    "# I'd like to define a scoring for the wrapper that's KS, but I haven't gotten around to this yet.\n",
    "# def KSscore(classifier, x,y)\n",
    "#     goods = "
   ]
  },
  {
   "cell_type": "code",
   "execution_count": 18,
   "metadata": {},
   "outputs": [],
   "source": [
    "def fdr(classifier, x, y, cutoff=detect_rate):\n",
    "# Calculates FDR score for the given classifier on dataset x and y with cutoff value\n",
    "# get the probability list from the given classifier\n",
    "    return fdr_prob(y, classifier.predict_proba(x), cutoff)\n",
    "def fdr_prob(y, y_prob, cutoff=detect_rate):\n",
    "    if len(y_prob.shape) != 1:    # sometimes the proba list can contain many columns, one for each category\n",
    "        y_prob = y_prob[:, -1:]   # only the last one (fraud_label==1) is used here.\n",
    "    num_fraud = len(y[y == 1])    # count the total nunber of frauds   \n",
    "# sort the proba list from high to low while retain the true (not predicted) fraud label\n",
    "    sorted_prob = np.asarray(sorted(zip(y_prob, y), key=lambda x: x[0], reverse=True))\n",
    "    cutoff_bin = sorted_prob[0:int(len(y) * cutoff), 1:]  # 3% cutoff\n",
    "# return the FDR score (#fraud_in_cutoff / #total_fraud)\n",
    "    return len(cutoff_bin[cutoff_bin == 1]) / num_fraud   "
   ]
  },
  {
   "cell_type": "markdown",
   "metadata": {},
   "source": [
    "## Run a wrapper on the remaining top variables"
   ]
  },
  {
   "cell_type": "code",
   "execution_count": 19,
   "metadata": {
    "scrolled": true
   },
   "outputs": [
    {
     "ename": "AttributeError",
     "evalue": "k_features must be between 1 and X.shape[1].",
     "output_type": "error",
     "traceback": [
      "\u001b[0;31m---------------------------------------------------------------------------\u001b[0m",
      "\u001b[0;31mAttributeError\u001b[0m                            Traceback (most recent call last)",
      "\u001b[0;32m<timed exec>\u001b[0m in \u001b[0;36m<module>\u001b[0;34m\u001b[0m\n",
      "\u001b[0;32m/opt/anaconda3/lib/python3.8/site-packages/mlxtend/feature_selection/sequential_feature_selector.py\u001b[0m in \u001b[0;36mfit\u001b[0;34m(self, X, y, groups, **fit_params)\u001b[0m\n\u001b[1;32m    454\u001b[0m         ):\n\u001b[1;32m    455\u001b[0m             \u001b[0merr_msg\u001b[0m \u001b[0;34m=\u001b[0m \u001b[0mself\u001b[0m\u001b[0;34m.\u001b[0m\u001b[0mgenerate_error_message_k_features\u001b[0m\u001b[0;34m(\u001b[0m\u001b[0;34m\"k_features\"\u001b[0m\u001b[0;34m)\u001b[0m\u001b[0;34m\u001b[0m\u001b[0;34m\u001b[0m\u001b[0m\n\u001b[0;32m--> 456\u001b[0;31m             \u001b[0;32mraise\u001b[0m \u001b[0mAttributeError\u001b[0m\u001b[0;34m(\u001b[0m\u001b[0merr_msg\u001b[0m\u001b[0;34m)\u001b[0m\u001b[0;34m\u001b[0m\u001b[0;34m\u001b[0m\u001b[0m\n\u001b[0m\u001b[1;32m    457\u001b[0m \u001b[0;34m\u001b[0m\u001b[0m\n\u001b[1;32m    458\u001b[0m         \u001b[0;32mif\u001b[0m \u001b[0misinstance\u001b[0m\u001b[0;34m(\u001b[0m\u001b[0mself\u001b[0m\u001b[0;34m.\u001b[0m\u001b[0mk_features\u001b[0m\u001b[0;34m,\u001b[0m \u001b[0mtuple\u001b[0m\u001b[0;34m)\u001b[0m\u001b[0;34m:\u001b[0m\u001b[0;34m\u001b[0m\u001b[0;34m\u001b[0m\u001b[0m\n",
      "\u001b[0;31mAttributeError\u001b[0m: k_features must be between 1 and X.shape[1]."
     ]
    }
   ],
   "source": [
    "%%time\n",
    "import warnings \n",
    "warnings.filterwarnings(\"ignore\", category=DeprecationWarning) \n",
    "# If you're doing forward selection it's enough to stop at num_wrapper variables. \n",
    "# If you're doing backward selection you need to go through all the variables to get a sorted list of num_wrapper variables.\n",
    "\n",
    "# I can't figure out how to get rid of this annoying warning! I don't know what I'm doing wrong...\n",
    "\n",
    "nfeatures = len(X.columns)\n",
    "# clf = RandomForestClassifier(n_estimators=5) # simple, fast nonlinear model for the wrapper\n",
    "clf = LGBMClassifier(n_estimators=20,num_leaves=3) # simple, fast nonlinear model for the wrapper\n",
    "sfs = SFS(clf,k_features=num_wrapper,forward=True,verbose=0,scoring=fdr,cv=3,n_jobs=-1) # use for forward selection\n",
    "# sfs = SFS(clf,k_features=1,forward=False,verbose=0,scoring=fdr,cv=3,n_jobs=-1) # use for backward selection\n",
    "sfs.fit(X,Y)"
   ]
  },
  {
   "cell_type": "code",
   "execution_count": 20,
   "metadata": {},
   "outputs": [
    {
     "name": "stdout",
     "output_type": "stream",
     "text": [
      "time to here: 0:00:04.609042\n"
     ]
    }
   ],
   "source": [
    "print('time to here:', dt.datetime.now() - start_time)"
   ]
  },
  {
   "cell_type": "code",
   "execution_count": 21,
   "metadata": {},
   "outputs": [
    {
     "ename": "AttributeError",
     "evalue": "SequentialFeatureSelector has not been fitted, yet.",
     "output_type": "error",
     "traceback": [
      "\u001b[0;31m---------------------------------------------------------------------------\u001b[0m",
      "\u001b[0;31mAttributeError\u001b[0m                            Traceback (most recent call last)",
      "\u001b[0;32m<ipython-input-21-6e6d0466d47f>\u001b[0m in \u001b[0;36m<module>\u001b[0;34m\u001b[0m\n\u001b[1;32m      1\u001b[0m \u001b[0;32mfrom\u001b[0m \u001b[0mmlxtend\u001b[0m\u001b[0;34m.\u001b[0m\u001b[0mplotting\u001b[0m \u001b[0;32mimport\u001b[0m \u001b[0mplot_sequential_feature_selection\u001b[0m \u001b[0;32mas\u001b[0m \u001b[0mplot_sfs\u001b[0m\u001b[0;34m\u001b[0m\u001b[0;34m\u001b[0m\u001b[0m\n\u001b[0;32m----> 2\u001b[0;31m \u001b[0mfig1\u001b[0m \u001b[0;34m=\u001b[0m \u001b[0mplot_sfs\u001b[0m\u001b[0;34m(\u001b[0m\u001b[0msfs\u001b[0m\u001b[0;34m.\u001b[0m\u001b[0mget_metric_dict\u001b[0m\u001b[0;34m(\u001b[0m\u001b[0;34m)\u001b[0m\u001b[0;34m,\u001b[0m\u001b[0mkind\u001b[0m\u001b[0;34m=\u001b[0m\u001b[0;34m'std_dev'\u001b[0m\u001b[0;34m,\u001b[0m \u001b[0mfigsize\u001b[0m\u001b[0;34m=\u001b[0m\u001b[0;34m(\u001b[0m\u001b[0;36m15\u001b[0m\u001b[0;34m,\u001b[0m \u001b[0;36m6\u001b[0m\u001b[0;34m)\u001b[0m\u001b[0;34m)\u001b[0m\u001b[0;34m\u001b[0m\u001b[0;34m\u001b[0m\u001b[0m\n\u001b[0m\u001b[1;32m      3\u001b[0m \u001b[0mplt\u001b[0m\u001b[0;34m.\u001b[0m\u001b[0mxticks\u001b[0m\u001b[0;34m(\u001b[0m\u001b[0mnp\u001b[0m\u001b[0;34m.\u001b[0m\u001b[0marange\u001b[0m\u001b[0;34m(\u001b[0m\u001b[0;36m0\u001b[0m\u001b[0;34m,\u001b[0m \u001b[0mlen\u001b[0m\u001b[0;34m(\u001b[0m\u001b[0mX\u001b[0m\u001b[0;34m.\u001b[0m\u001b[0mcolumns\u001b[0m\u001b[0;34m)\u001b[0m\u001b[0;34m,\u001b[0m \u001b[0mstep\u001b[0m\u001b[0;34m=\u001b[0m\u001b[0;36m5\u001b[0m\u001b[0;34m)\u001b[0m\u001b[0;34m)\u001b[0m\u001b[0;34m\u001b[0m\u001b[0;34m\u001b[0m\u001b[0m\n\u001b[1;32m      4\u001b[0m \u001b[0mplt\u001b[0m\u001b[0;34m.\u001b[0m\u001b[0myticks\u001b[0m\u001b[0;34m(\u001b[0m\u001b[0mnp\u001b[0m\u001b[0;34m.\u001b[0m\u001b[0marange\u001b[0m\u001b[0;34m(\u001b[0m\u001b[0;36m0\u001b[0m\u001b[0;34m,\u001b[0m\u001b[0;36m1\u001b[0m\u001b[0;34m,\u001b[0m\u001b[0mstep\u001b[0m\u001b[0;34m=\u001b[0m\u001b[0;36m.1\u001b[0m\u001b[0;34m)\u001b[0m\u001b[0;34m)\u001b[0m\u001b[0;34m\u001b[0m\u001b[0;34m\u001b[0m\u001b[0m\n\u001b[1;32m      5\u001b[0m \u001b[0mplt\u001b[0m\u001b[0;34m.\u001b[0m\u001b[0mylim\u001b[0m\u001b[0;34m(\u001b[0m\u001b[0;34m[\u001b[0m\u001b[0;36m0.\u001b[0m\u001b[0;34m,\u001b[0m \u001b[0;36m1\u001b[0m\u001b[0;34m]\u001b[0m\u001b[0;34m)\u001b[0m\u001b[0;34m\u001b[0m\u001b[0;34m\u001b[0m\u001b[0m\n",
      "\u001b[0;32m/opt/anaconda3/lib/python3.8/site-packages/mlxtend/feature_selection/sequential_feature_selector.py\u001b[0m in \u001b[0;36mget_metric_dict\u001b[0;34m(self, confidence_interval)\u001b[0m\n\u001b[1;32m    874\u001b[0m \u001b[0;34m\u001b[0m\u001b[0m\n\u001b[1;32m    875\u001b[0m         \"\"\"\n\u001b[0;32m--> 876\u001b[0;31m         \u001b[0mself\u001b[0m\u001b[0;34m.\u001b[0m\u001b[0m_check_fitted\u001b[0m\u001b[0;34m(\u001b[0m\u001b[0;34m)\u001b[0m\u001b[0;34m\u001b[0m\u001b[0;34m\u001b[0m\u001b[0m\n\u001b[0m\u001b[1;32m    877\u001b[0m         \u001b[0mfdict\u001b[0m \u001b[0;34m=\u001b[0m \u001b[0mdeepcopy\u001b[0m\u001b[0;34m(\u001b[0m\u001b[0mself\u001b[0m\u001b[0;34m.\u001b[0m\u001b[0msubsets_\u001b[0m\u001b[0;34m)\u001b[0m\u001b[0;34m\u001b[0m\u001b[0;34m\u001b[0m\u001b[0m\n\u001b[1;32m    878\u001b[0m         \u001b[0;32mfor\u001b[0m \u001b[0mk\u001b[0m \u001b[0;32min\u001b[0m \u001b[0mfdict\u001b[0m\u001b[0;34m:\u001b[0m\u001b[0;34m\u001b[0m\u001b[0;34m\u001b[0m\u001b[0m\n",
      "\u001b[0;32m/opt/anaconda3/lib/python3.8/site-packages/mlxtend/feature_selection/sequential_feature_selector.py\u001b[0m in \u001b[0;36m_check_fitted\u001b[0;34m(self)\u001b[0m\n\u001b[1;32m    893\u001b[0m     \u001b[0;32mdef\u001b[0m \u001b[0m_check_fitted\u001b[0m\u001b[0;34m(\u001b[0m\u001b[0mself\u001b[0m\u001b[0;34m)\u001b[0m\u001b[0;34m:\u001b[0m\u001b[0;34m\u001b[0m\u001b[0;34m\u001b[0m\u001b[0m\n\u001b[1;32m    894\u001b[0m         \u001b[0;32mif\u001b[0m \u001b[0;32mnot\u001b[0m \u001b[0mself\u001b[0m\u001b[0;34m.\u001b[0m\u001b[0mfitted\u001b[0m\u001b[0;34m:\u001b[0m\u001b[0;34m\u001b[0m\u001b[0;34m\u001b[0m\u001b[0m\n\u001b[0;32m--> 895\u001b[0;31m             raise AttributeError(\n\u001b[0m\u001b[1;32m    896\u001b[0m                 \u001b[0;34m\"SequentialFeatureSelector has not been\"\u001b[0m \u001b[0;34m\" fitted, yet.\"\u001b[0m\u001b[0;34m\u001b[0m\u001b[0;34m\u001b[0m\u001b[0m\n\u001b[1;32m    897\u001b[0m             )\n",
      "\u001b[0;31mAttributeError\u001b[0m: SequentialFeatureSelector has not been fitted, yet."
     ]
    }
   ],
   "source": [
    "from mlxtend.plotting import plot_sequential_feature_selection as plot_sfs\n",
    "fig1 = plot_sfs(sfs.get_metric_dict(),kind='std_dev', figsize=(15, 6))\n",
    "plt.xticks(np.arange(0, len(X.columns), step=5))\n",
    "plt.yticks(np.arange(0,1,step=.1))\n",
    "plt.ylim([0., 1])\n",
    "plt.xlim(0,num_wrapper)\n",
    "plt.title('Stepwise Selection')\n",
    "plt.grid()\n",
    "plt.savefig('performance_nvars.png')\n",
    "plt.show()"
   ]
  },
  {
   "cell_type": "code",
   "execution_count": null,
   "metadata": {
    "scrolled": false
   },
   "outputs": [],
   "source": [
    "vars_FS = pd.DataFrame.from_dict(sfs.get_metric_dict()).T"
   ]
  },
  {
   "cell_type": "code",
   "execution_count": null,
   "metadata": {},
   "outputs": [],
   "source": [
    "ordered_vars_FS = vars_FS.copy()\n",
    "for i in range(len(ordered_vars_FS)):\n",
    "    ordered_vars_FS.loc[i+1,'add variables in this order'] = int(i+1)\n",
    "    if i+1 == 1:\n",
    "        ordered_vars_FS.loc[i+1,'variable name'] = (list(ordered_vars_FS.loc[i+1,'feature_names'])[0])\n",
    "    else:\n",
    "        ordered_vars_FS.loc[i+1,'variable name'] = (list(set(ordered_vars_FS.loc[i+1,'feature_names']) - set(ordered_vars_FS.loc[i,'feature_names'])))\n",
    "# You might also need this following line. It converts a list to a string\n",
    "        #         ordered_vars_FS.loc[i+1,'variable name'] = ordered_vars_FS.loc[i+1,'variable name'][0]"
   ]
  },
  {
   "cell_type": "code",
   "execution_count": null,
   "metadata": {
    "scrolled": false
   },
   "outputs": [],
   "source": [
    "ordered_vars_FS"
   ]
  },
  {
   "cell_type": "code",
   "execution_count": null,
   "metadata": {},
   "outputs": [],
   "source": [
    "ordered_vars_FS.to_csv('Wrapper_selection_info.csv', index=False)"
   ]
  },
  {
   "cell_type": "code",
   "execution_count": null,
   "metadata": {},
   "outputs": [],
   "source": [
    "##################### Problematic Cell ##########################"
   ]
  },
  {
   "cell_type": "code",
   "execution_count": null,
   "metadata": {
    "scrolled": false
   },
   "outputs": [],
   "source": [
    "vars_keep = ordered_vars_FS['variable name']\n",
    "vars_keep_list = ordered_vars_FS['variable name'].tolist()\n",
    "vars_keep.to_csv('final_vars_list.csv',index=False)\n",
    "vars_keep"
   ]
  },
  {
   "cell_type": "code",
   "execution_count": null,
   "metadata": {},
   "outputs": [],
   "source": [
    "##################### Fix the Problematic Cell ##########################\n",
    "new_list=vars_keep_list.copy()\n",
    "true_vars_keep_list=[]\n",
    "for i in new_list:\n",
    "    if type(i)==list:\n",
    "        temp=i[0]\n",
    "        true_vars_keep_list.append(temp)\n",
    "    else:\n",
    "         true_vars_keep_list.append(i)\n",
    "        "
   ]
  },
  {
   "cell_type": "code",
   "execution_count": null,
   "metadata": {},
   "outputs": [],
   "source": [
    "vars_keep_list=true_vars_keep_list"
   ]
  },
  {
   "cell_type": "code",
   "execution_count": null,
   "metadata": {},
   "outputs": [],
   "source": [
    "filter_score.set_index('variable',drop=True,inplace=True)\n",
    "filter_score = filter_score.iloc[1:,:]\n",
    "filter_score"
   ]
  },
  {
   "cell_type": "code",
   "execution_count": null,
   "metadata": {
    "scrolled": true
   },
   "outputs": [],
   "source": [
    "vars_keep_sorted = pd.DataFrame(vars_keep_list)\n",
    "vars_keep_sorted.columns=['variable']\n",
    "vars_keep_sorted.set_index('variable',drop=True,inplace=True)\n",
    "vars_keep_sorted.head()"
   ]
  },
  {
   "cell_type": "code",
   "execution_count": null,
   "metadata": {
    "scrolled": false
   },
   "outputs": [],
   "source": [
    "vars_keep_sorted = pd.concat([vars_keep_sorted,filter_score],axis=1,join='inner')"
   ]
  },
  {
   "cell_type": "code",
   "execution_count": null,
   "metadata": {
    "scrolled": false
   },
   "outputs": [],
   "source": [
    "vars_keep_sorted.reset_index(inplace=True)\n",
    "vars_keep_sorted.reset_index(inplace=True)\n",
    "vars_keep_sorted['index'] = vars_keep_sorted['index'] + 1\n",
    "vars_keep_sorted.rename(columns={'index':'wrapper order'},inplace=True)\n",
    "vars_keep_sorted.to_csv('vars_keep_sorted.csv',index=False)\n",
    "vars_keep_sorted"
   ]
  },
  {
   "cell_type": "code",
   "execution_count": null,
   "metadata": {
    "scrolled": false
   },
   "outputs": [],
   "source": [
    "vars_keep_list.append(index_name)\n",
    "vars_keep_list.append(y_name)\n",
    "vars_keep_list"
   ]
  },
  {
   "cell_type": "code",
   "execution_count": null,
   "metadata": {},
   "outputs": [],
   "source": [
    "filter_score"
   ]
  },
  {
   "cell_type": "code",
   "execution_count": null,
   "metadata": {},
   "outputs": [],
   "source": [
    "%%time\n",
    "df = pd.read_csv(file_name)\n",
    "df.shape"
   ]
  },
  {
   "cell_type": "code",
   "execution_count": null,
   "metadata": {},
   "outputs": [],
   "source": [
    "df_keep = df.filter(vars_keep_list, axis=1)\n",
    "# df_keep = df[df.index.isin(vars_keep_list)]\n",
    "print(df_keep.shape)"
   ]
  },
  {
   "cell_type": "code",
   "execution_count": null,
   "metadata": {},
   "outputs": [],
   "source": [
    "df_keep.to_csv('vars_final.csv',index=False)"
   ]
  },
  {
   "cell_type": "code",
   "execution_count": null,
   "metadata": {},
   "outputs": [],
   "source": [
    "print(\"duration: \", dt.datetime.now() - start_time)"
   ]
  },
  {
   "cell_type": "code",
   "execution_count": null,
   "metadata": {},
   "outputs": [],
   "source": []
  }
 ],
 "metadata": {
  "anaconda-cloud": {},
  "kernelspec": {
   "display_name": "Python 3 (ipykernel)",
   "language": "python",
   "name": "python3"
  },
  "language_info": {
   "codemirror_mode": {
    "name": "ipython",
    "version": 3
   },
   "file_extension": ".py",
   "mimetype": "text/x-python",
   "name": "python",
   "nbconvert_exporter": "python",
   "pygments_lexer": "ipython3",
   "version": "3.9.13"
  },
  "toc": {
   "base_numbering": 1,
   "nav_menu": {},
   "number_sections": true,
   "sideBar": true,
   "skip_h1_title": false,
   "title_cell": "Table of Contents",
   "title_sidebar": "Contents",
   "toc_cell": false,
   "toc_position": {},
   "toc_section_display": true,
   "toc_window_display": false
  }
 },
 "nbformat": 4,
 "nbformat_minor": 1
}
